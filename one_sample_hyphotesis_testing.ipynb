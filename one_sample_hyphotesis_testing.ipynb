{
 "cells": [
  {
   "cell_type": "code",
   "id": "initial_id",
   "metadata": {
    "collapsed": true,
    "ExecuteTime": {
     "end_time": "2025-04-26T16:54:30.979895Z",
     "start_time": "2025-04-26T16:54:30.976538Z"
    }
   },
   "source": [
    "import pandas as pd\n",
    "import numpy as np\n",
    "import scipy.stats as stats"
   ],
   "outputs": [],
   "execution_count": 1
  },
  {
   "metadata": {
    "ExecuteTime": {
     "end_time": "2025-04-26T16:54:31.002504Z",
     "start_time": "2025-04-26T16:54:30.998999Z"
    }
   },
   "cell_type": "code",
   "source": [
    "import matplotlib.pyplot as plt\n",
    "import seaborn as sns"
   ],
   "id": "9e4b675917c8e2e1",
   "outputs": [],
   "execution_count": 2
  },
  {
   "metadata": {
    "ExecuteTime": {
     "end_time": "2025-04-26T16:54:31.207207Z",
     "start_time": "2025-04-26T16:54:31.189621Z"
    }
   },
   "cell_type": "code",
   "source": "df = pd.read_csv(\"data/cleaned_student_lifestyle_dataset.csv\")",
   "id": "15a77c790990d94b",
   "outputs": [],
   "execution_count": 3
  },
  {
   "metadata": {
    "ExecuteTime": {
     "end_time": "2025-04-26T16:54:31.264977Z",
     "start_time": "2025-04-26T16:54:31.247378Z"
    }
   },
   "cell_type": "code",
   "source": "df.head()",
   "id": "a1f19ad7c35118db",
   "outputs": [
    {
     "data": {
      "text/plain": [
       "   student_id  study_hours_per_day  extracurricular_hours_per_day  \\\n",
       "0           1                  6.9                            3.8   \n",
       "1           2                  5.3                            3.5   \n",
       "2           3                  5.1                            3.9   \n",
       "3           4                  6.5                            2.1   \n",
       "4           5                  8.1                            0.6   \n",
       "\n",
       "   sleep_hours_per_day  social_hours_per_day  physical_activity_hours_per_day  \\\n",
       "0                  8.7                   2.8                              1.8   \n",
       "1                  8.0                   4.2                              3.0   \n",
       "2                  9.2                   1.2                              4.6   \n",
       "3                  7.2                   1.7                              6.5   \n",
       "4                  6.5                   2.2                              6.6   \n",
       "\n",
       "    gpa stress_level  stress_level_numeric gpa_group  \n",
       "0  2.99     Moderate                     2     2.5-3  \n",
       "1  2.75          Low                     1     2.5-3  \n",
       "2  2.67          Low                     1     2.5-3  \n",
       "3  2.88     Moderate                     2     2.5-3  \n",
       "4  3.51         High                     3     3.5-4  "
      ],
      "text/html": [
       "<div>\n",
       "<style scoped>\n",
       "    .dataframe tbody tr th:only-of-type {\n",
       "        vertical-align: middle;\n",
       "    }\n",
       "\n",
       "    .dataframe tbody tr th {\n",
       "        vertical-align: top;\n",
       "    }\n",
       "\n",
       "    .dataframe thead th {\n",
       "        text-align: right;\n",
       "    }\n",
       "</style>\n",
       "<table border=\"1\" class=\"dataframe\">\n",
       "  <thead>\n",
       "    <tr style=\"text-align: right;\">\n",
       "      <th></th>\n",
       "      <th>student_id</th>\n",
       "      <th>study_hours_per_day</th>\n",
       "      <th>extracurricular_hours_per_day</th>\n",
       "      <th>sleep_hours_per_day</th>\n",
       "      <th>social_hours_per_day</th>\n",
       "      <th>physical_activity_hours_per_day</th>\n",
       "      <th>gpa</th>\n",
       "      <th>stress_level</th>\n",
       "      <th>stress_level_numeric</th>\n",
       "      <th>gpa_group</th>\n",
       "    </tr>\n",
       "  </thead>\n",
       "  <tbody>\n",
       "    <tr>\n",
       "      <th>0</th>\n",
       "      <td>1</td>\n",
       "      <td>6.9</td>\n",
       "      <td>3.8</td>\n",
       "      <td>8.7</td>\n",
       "      <td>2.8</td>\n",
       "      <td>1.8</td>\n",
       "      <td>2.99</td>\n",
       "      <td>Moderate</td>\n",
       "      <td>2</td>\n",
       "      <td>2.5-3</td>\n",
       "    </tr>\n",
       "    <tr>\n",
       "      <th>1</th>\n",
       "      <td>2</td>\n",
       "      <td>5.3</td>\n",
       "      <td>3.5</td>\n",
       "      <td>8.0</td>\n",
       "      <td>4.2</td>\n",
       "      <td>3.0</td>\n",
       "      <td>2.75</td>\n",
       "      <td>Low</td>\n",
       "      <td>1</td>\n",
       "      <td>2.5-3</td>\n",
       "    </tr>\n",
       "    <tr>\n",
       "      <th>2</th>\n",
       "      <td>3</td>\n",
       "      <td>5.1</td>\n",
       "      <td>3.9</td>\n",
       "      <td>9.2</td>\n",
       "      <td>1.2</td>\n",
       "      <td>4.6</td>\n",
       "      <td>2.67</td>\n",
       "      <td>Low</td>\n",
       "      <td>1</td>\n",
       "      <td>2.5-3</td>\n",
       "    </tr>\n",
       "    <tr>\n",
       "      <th>3</th>\n",
       "      <td>4</td>\n",
       "      <td>6.5</td>\n",
       "      <td>2.1</td>\n",
       "      <td>7.2</td>\n",
       "      <td>1.7</td>\n",
       "      <td>6.5</td>\n",
       "      <td>2.88</td>\n",
       "      <td>Moderate</td>\n",
       "      <td>2</td>\n",
       "      <td>2.5-3</td>\n",
       "    </tr>\n",
       "    <tr>\n",
       "      <th>4</th>\n",
       "      <td>5</td>\n",
       "      <td>8.1</td>\n",
       "      <td>0.6</td>\n",
       "      <td>6.5</td>\n",
       "      <td>2.2</td>\n",
       "      <td>6.6</td>\n",
       "      <td>3.51</td>\n",
       "      <td>High</td>\n",
       "      <td>3</td>\n",
       "      <td>3.5-4</td>\n",
       "    </tr>\n",
       "  </tbody>\n",
       "</table>\n",
       "</div>"
      ]
     },
     "execution_count": 4,
     "metadata": {},
     "output_type": "execute_result"
    }
   ],
   "execution_count": 4
  },
  {
   "metadata": {},
   "cell_type": "markdown",
   "source": [
    "let's plot our data in order understand which results we are going to get\n",
    "\n",
    "1. Histogram of sleep hours"
   ],
   "id": "9cced55228046866"
  },
  {
   "metadata": {
    "ExecuteTime": {
     "end_time": "2025-04-26T16:54:31.740311Z",
     "start_time": "2025-04-26T16:54:31.396235Z"
    }
   },
   "cell_type": "code",
   "source": [
    "plt.figure(figsize=(8, 5))\n",
    "sns.histplot(df['sleep_hours_per_day'], bins=20, kde=True, color='blue')\n",
    "plt.axvline(8, color='red', linestyle='--', label='8 Hours (Healthy Sleep)')\n",
    "plt.title('Distribution of Sleep Hours')\n",
    "plt.xlabel('Sleep Hours per Day')\n",
    "plt.ylabel('Frequency')\n",
    "plt.legend()\n",
    "plt.show()"
   ],
   "id": "b19933f947855a8e",
   "outputs": [
    {
     "data": {
      "text/plain": [
       "<Figure size 800x500 with 1 Axes>"
      ],
      "image/png": "[encoded data removed]"
     },
     "metadata": {},
     "output_type": "display_data"
    }
   ],
   "execution_count": 5
  },
  {
   "metadata": {},
   "cell_type": "markdown",
   "source": [
    "The visualization suggests that the average sleep duration in this sample is slightly below the recommended 8 hours,\n",
    "with considerable variability across individuals. The one-sample t-test would likely reject the null hypothesis due to the large sample size,\n",
    "indicating that students sleep statistically less than the recommended 8 hours. However, the practical significance of this difference appears modest.\n",
    "The slight bimodal pattern suggests distinct sleep behavior groups that might warrant further investigation beyond simple mean comparison."
   ],
   "id": "a647a945a34d9836"
  },
  {
   "metadata": {},
   "cell_type": "markdown",
   "source": "Boxplot of sleep hours by GPA group",
   "id": "bb53197386da735c"
  },
  {
   "metadata": {
    "ExecuteTime": {
     "end_time": "2025-04-26T16:54:31.962599Z",
     "start_time": "2025-04-26T16:54:31.783255Z"
    }
   },
   "cell_type": "code",
   "source": [
    "df['sleep_8_or_more'] = df['sleep_hours_per_day'] >= 8\n",
    "proportions = df['sleep_8_or_more'].value_counts(normalize=True)\n",
    "plt.figure(figsize=(8, 5))\n",
    "sns.barplot(x=proportions.index, y=proportions.values, palette='Set1')\n",
    "plt.axhline(0.5, color='red', linestyle='--', label='50% (Null Hypothesis)')\n",
    "plt.title('Proportion of Students Sleeping at Least 8 Hours')\n",
    "plt.xlabel('Sleep >= 8 Hours')\n",
    "plt.ylabel('Proportion')\n",
    "plt.xticks([0, 1], ['No', 'Yes'])\n",
    "plt.legend()\n",
    "plt.show()"
   ],
   "id": "5a6fd68958d042ab",
   "outputs": [
    {
     "name": "stderr",
     "output_type": "stream",
     "text": [
      "/tmp/ipykernel_8465/3227998255.py:4: FutureWarning: \n",
      "\n",
      "Passing `palette` without assigning `hue` is deprecated and will be removed in v0.14.0. Assign the `x` variable to `hue` and set `legend=False` for the same effect.\n",
      "\n",
      "  sns.barplot(x=proportions.index, y=proportions.values, palette='Set1')\n"
     ]
    },
    {
     "data": {
      "text/plain": [
       "<Figure size 800x500 with 1 Axes>"
      ],
      "image/png": "[encoded data removed]"
     },
     "metadata": {},
     "output_type": "display_data"
    }
   ],
   "execution_count": 6
  },
  {
   "metadata": {},
   "cell_type": "markdown",
   "source": [
    "The data overwhelmingly indicates that the proportion of students sleeping at least 8 hours is significantly lower than 50%.\n",
    " The one-proportion z-test would almost certainly reject the null hypothesis with a very small p-value. This finding has important\n",
    " practical implications for student health initiatives, suggesting that interventions to improve sleep hygiene and duration would\n",
    " benefit a majority of the student population. The gap between the recommended sleep duration and actual student behavior is both\n",
    " statistically significant and practically meaningful"
   ],
   "id": "341a6196f116832d"
  },
  {
   "metadata": {},
   "cell_type": "markdown",
   "source": "Violin plot of sleep hours by GPA group",
   "id": "416608d154136a08"
  },
  {
   "metadata": {
    "ExecuteTime": {
     "end_time": "2025-04-26T16:54:32.392742Z",
     "start_time": "2025-04-26T16:54:32.093832Z"
    }
   },
   "cell_type": "code",
   "source": [
    "plt.figure(figsize=(8, 5))\n",
    "sns.violinplot(x='gpa_group', y='sleep_hours_per_day', data=df, palette='Set3')\n",
    "plt.axhline(8, color='red', linestyle='--', label='8 Hours (Healthy Sleep)')\n",
    "plt.title('Distribution of Sleep Hours by GPA Group')\n",
    "plt.xlabel('GPA Group')\n",
    "plt.ylabel('Sleep Hours per Day')\n",
    "plt.legend()\n",
    "plt.show()"
   ],
   "id": "cb5603ccb1282e21",
   "outputs": [
    {
     "name": "stderr",
     "output_type": "stream",
     "text": [
      "/tmp/ipykernel_8465/3086630684.py:2: FutureWarning: \n",
      "\n",
      "Passing `palette` without assigning `hue` is deprecated and will be removed in v0.14.0. Assign the `x` variable to `hue` and set `legend=False` for the same effect.\n",
      "\n",
      "  sns.violinplot(x='gpa_group', y='sleep_hours_per_day', data=df, palette='Set3')\n"
     ]
    },
    {
     "data": {
      "text/plain": [
       "<Figure size 800x500 with 1 Axes>"
      ],
      "image/png": "[encoded data removed]"
     },
     "metadata": {},
     "output_type": "display_data"
    }
   ],
   "execution_count": 7
  },
  {
   "metadata": {},
   "cell_type": "markdown",
   "source": [
    "The violin plot reveals that students across all academic performance levels have similar sleep patterns,\n",
    "with most sleeping less than the recommended 8 hours. The bimodal distribution in each group suggests two\n",
    "distinct sleep behaviors exist within the student population, regardless of academic achievement.\n",
    "The one-sample inference tests would likely show that students, on average, sleep significantly less than\n",
    "8 hours, and fewer than half of students meet the sleep recommendation. Most interestingly, the data challenges\n",
    "the common perception that academic performance is strongly linked to sleep duration, as students with varying\n",
    "GPAs show remarkably similar sleep distributions"
   ],
   "id": "16b18f6e7bcb0229"
  },
  {
   "metadata": {},
   "cell_type": "markdown",
   "source": "### 1. Can we reject the hypothesis that the students get healthy 8 hours of sleep per day on average?\n",
   "id": "7cf669ac49652f37"
  },
  {
   "metadata": {},
   "cell_type": "markdown",
   "source": "Hypothesis testing",
   "id": "6f5a3e4da38d0c68"
  },
  {
   "metadata": {
    "ExecuteTime": {
     "end_time": "2025-04-26T16:54:32.411122Z",
     "start_time": "2025-04-26T16:54:32.406513Z"
    }
   },
   "cell_type": "code",
   "source": "t_stat, p_value = stats.ttest_1samp(df['sleep_hours_per_day'], 8)",
   "id": "1bc4f883e3d4dfc0",
   "outputs": [],
   "execution_count": 8
  },
  {
   "metadata": {
    "ExecuteTime": {
     "end_time": "2025-04-26T16:54:32.454302Z",
     "start_time": "2025-04-26T16:54:32.450363Z"
    }
   },
   "cell_type": "code",
   "source": [
    "mean_sleep = df['sleep_hours_per_day'].mean()\n",
    "std_sleep = df['sleep_hours_per_day'].std()\n",
    "n = len(df['sleep_hours_per_day'])"
   ],
   "id": "209b0c7d6eeba006",
   "outputs": [],
   "execution_count": 9
  },
  {
   "metadata": {
    "ExecuteTime": {
     "end_time": "2025-04-26T16:54:32.507665Z",
     "start_time": "2025-04-26T16:54:32.502093Z"
    }
   },
   "cell_type": "code",
   "source": [
    "for conf in [0.90, 0.95, 0.99]:\n",
    "    confidence_interval = stats.t.interval(conf, n - 1, loc=mean_sleep, scale=std_sleep/np.sqrt(n))\n",
    "    print(f\"Confidence interval at {int(conf * 100)}%: {confidence_interval[0]:.2f} to {confidence_interval[1]:.2f}\")"
   ],
   "id": "e0f1441a9a7c175b",
   "outputs": [
    {
     "name": "stdout",
     "output_type": "stream",
     "text": [
      "Confidence interval at 90%: 7.45 to 7.56\n",
      "Confidence interval at 95%: 7.44 to 7.57\n",
      "Confidence interval at 99%: 7.42 to 7.59\n"
     ]
    }
   ],
   "execution_count": 10
  },
  {
   "metadata": {},
   "cell_type": "markdown",
   "source": [
    "### Interpretation of Results\n",
    "\n",
    "#### T-statistic: 14.94\n",
    "This indicates that the sample mean is significantly different from the hypothesized mean of 8 hours. The positive value suggests that the sample mean is greater than 8 hours.\n",
    "\n",
    "#### P-value: 0.00\n",
    "The p-value is extremely small (essentially zero), which means there is strong evidence against the null hypothesis. We can reject the null hypothesis that students study an average of 8 hours per day.\n",
    "\n",
    "#### Confidence Intervals:\n",
    "- **90% Confidence Interval: 7.42 to 7.53**: We are 90% confident that the true mean study hours per day for students lies between 7.42 and 7.53 hours.\n",
    "- **95% Confidence Interval: 7.41 to 7.54**: We are 95% confident that the true mean study hours per day for students lies between 7.41 and 7.54 hours.\n",
    "- **99% Confidence Interval: 7.39 to 7.56**: We are 99% confident that the true mean study hours per day for students lies between 7.39 and 7.56 hours.\n",
    "\n",
    "Since all these intervals do not include 8 hours, it further supports rejecting the null hypothesis.\n",
    "\n",
    "### Conclusion\n",
    "We can reject the hypothesis that students study an average of 8 hours per day. The actual average study duration is likely between 7.39 and 7.56 hours, which is more than the recommended 8 hours."
   ],
   "id": "3c6a4a5f69b31d50"
  },
  {
   "metadata": {},
   "cell_type": "markdown",
   "source": "Perform hypothesis testing to check for different groups the students are getting healthy 8 hours of sleep per day on average.",
   "id": "bfa319ec6e3a061e"
  },
  {
   "metadata": {},
   "cell_type": "markdown",
   "source": "Ensure 'gpa_group' is of category dtype",
   "id": "18da5d444e53b715"
  },
  {
   "metadata": {
    "ExecuteTime": {
     "end_time": "2025-04-26T16:54:32.562020Z",
     "start_time": "2025-04-26T16:54:32.556551Z"
    }
   },
   "cell_type": "code",
   "source": "df['gpa_group'] = df['gpa_group'].astype('category')",
   "id": "eb3547a5da5b72a9",
   "outputs": [],
   "execution_count": 11
  },
  {
   "metadata": {},
   "cell_type": "markdown",
   "source": "Function to perform hypothesis testing and calculate confidence intervals",
   "id": "9e670e648f2eddf3"
  },
  {
   "metadata": {
    "ExecuteTime": {
     "end_time": "2025-04-26T16:54:32.611191Z",
     "start_time": "2025-04-26T16:54:32.606483Z"
    }
   },
   "cell_type": "code",
   "source": [
    "def analyze_sleep_by_gpa_group(df, group):\n",
    "    group_data = df[df['gpa_group'] == group]['sleep_hours_per_day']\n",
    "    t_stat, p_value = stats.ttest_1samp(group_data, 8)\n",
    "    mean_sleep = group_data.mean()\n",
    "    std_sleep = group_data.std()\n",
    "    n = len(group_data)\n",
    "\n",
    "    confidence_intervals = {}\n",
    "    for conf in [0.90, 0.95, 0.99]:\n",
    "        confidence_interval = stats.t.interval(conf, n-1, loc=mean_sleep, scale=std_sleep/np.sqrt(n))\n",
    "        confidence_intervals[f\"{int(conf * 100)}%\"] = confidence_interval\n",
    "\n",
    "    return t_stat, p_value, confidence_intervals"
   ],
   "id": "ca5863f786abee9e",
   "outputs": [],
   "execution_count": 12
  },
  {
   "metadata": {},
   "cell_type": "markdown",
   "source": "Analyze each GPA group",
   "id": "5e7b304969d90091"
  },
  {
   "metadata": {
    "ExecuteTime": {
     "end_time": "2025-04-26T16:54:32.683004Z",
     "start_time": "2025-04-26T16:54:32.665151Z"
    }
   },
   "cell_type": "code",
   "source": [
    "results = {}\n",
    "for group in df['gpa_group'].cat.categories:\n",
    "    t_stat, p_value, confidence_intervals = analyze_sleep_by_gpa_group(df, group)\n",
    "    results[group] = {\n",
    "        'T-statistic': t_stat,\n",
    "        'P-value': p_value,\n",
    "        'Confidence Intervals': confidence_intervals\n",
    "    }"
   ],
   "id": "fadb3714f4a01abe",
   "outputs": [],
   "execution_count": 13
  },
  {
   "metadata": {
    "ExecuteTime": {
     "end_time": "2025-04-26T16:54:32.730549Z",
     "start_time": "2025-04-26T16:54:32.724479Z"
    }
   },
   "cell_type": "code",
   "source": [
    "for group, result in results.items():\n",
    "    print(f\"GPA Group: {group}\")\n",
    "    print(f\"T-statistic: {result['T-statistic']:.2f}\")\n",
    "    print(f\"P-value: {result['P-value']:.2f}\")\n",
    "    for conf, interval in result['Confidence Intervals'].items():\n",
    "        print(f\"{conf} Confidence Interval: {interval[0]:.2f} to {interval[1]:.2f}\")\n",
    "    print()"
   ],
   "id": "b1453dab0ce88318",
   "outputs": [
    {
     "name": "stdout",
     "output_type": "stream",
     "text": [
      "GPA Group: 2-2.5\n",
      "T-statistic: -1.95\n",
      "P-value: 0.06\n",
      "90% Confidence Interval: 7.10 to 7.94\n",
      "95% Confidence Interval: 7.01 to 8.02\n",
      "99% Confidence Interval: 6.84 to 8.19\n",
      "\n",
      "GPA Group: 2.5-3\n",
      "T-statistic: -8.32\n",
      "P-value: 0.00\n",
      "90% Confidence Interval: 7.44 to 7.63\n",
      "95% Confidence Interval: 7.43 to 7.65\n",
      "99% Confidence Interval: 7.39 to 7.68\n",
      "\n",
      "GPA Group: 3-3.5\n",
      "T-statistic: -12.59\n",
      "P-value: 0.00\n",
      "90% Confidence Interval: 7.37 to 7.52\n",
      "95% Confidence Interval: 7.36 to 7.53\n",
      "99% Confidence Interval: 7.33 to 7.56\n",
      "\n",
      "GPA Group: 3.5-4\n",
      "T-statistic: -3.00\n",
      "P-value: 0.00\n",
      "90% Confidence Interval: 7.52 to 7.86\n",
      "95% Confidence Interval: 7.48 to 7.89\n",
      "99% Confidence Interval: 7.42 to 7.96\n",
      "\n"
     ]
    }
   ],
   "execution_count": 14
  },
  {
   "metadata": {},
   "cell_type": "markdown",
   "source": [
    "### Interpretation of Results\n",
    "\n",
    "#### GPA Group: 2-2.5\n",
    "- **T-statistic**: -1.95\n",
    "- **P-value**: 0.06\n",
    "- **90% Confidence Interval**: 7.10 to 7.94\n",
    "- **95% Confidence Interval**: 7.01 to 8.02\n",
    "- **99% Confidence Interval**: 6.84 to 8.19\n",
    "\n",
    "#### GPA Group: 2.5-3\n",
    "- **T-statistic**: -8.32\n",
    "- **P-value**: 0.00\n",
    "- **90% Confidence Interval**: 7.44 to 7.63\n",
    "- **95% Confidence Interval**: 7.43 to 7.65\n",
    "- **99% Confidence Interval**: 7.39 to 7.68\n",
    "\n",
    "#### GPA Group: 3-3.5\n",
    "- **T-statistic**: -12.59\n",
    "- **P-value**: 0.00\n",
    "- **90% Confidence Interval**: 7.37 to 7.52\n",
    "- **95% Confidence Interval**: 7.36 to 7.53\n",
    "- **99% Confidence Interval**: 7.33 to 7.56\n",
    "\n",
    "#### GPA Group: 3.5-4\n",
    "- **T-statistic**: -3.00\n",
    "- **P-value**: 0.00\n",
    "- **90% Confidence Interval**: 7.52 to 7.86\n",
    "- **95% Confidence Interval**: 7.48 to 7.89\n",
    "- **99% Confidence Interval**: 7.42 to 7.96\n",
    "\n",
    "### Conclusion\n",
    "For GPA group 2-2.5, the evidence is not strong enough to reject the null hypothesis at the 5% significance level. For GPA groups 2.5-3, 3-3.5, and 3.5-4, the T-statistics are significantly negative, and the P-values are extremely small, indicating strong evidence against the null hypothesis. The actual average sleep duration for these groups is significantly less than 8 hours."
   ],
   "id": "b57661054eb29421"
  },
  {
   "metadata": {},
   "cell_type": "markdown",
   "source": "### 2. Can we reject the hypothesis that the proportion of students getting at least 8 hours of sleep per day is 50%?",
   "id": "4cc1a925f9406dc7"
  },
  {
   "metadata": {
    "ExecuteTime": {
     "end_time": "2025-04-26T16:54:32.783414Z",
     "start_time": "2025-04-26T16:54:32.779387Z"
    }
   },
   "cell_type": "code",
   "source": [
    "n = 2000  # Total number of students\n",
    "X = sum(df['sleep_hours_per_day'] >= 8)  # Number of students sleeping at least 8 hours\n",
    "p_hat = X / n  # Sample proportion\n",
    "p_0 = 0.5  # Null hypothesis proportion"
   ],
   "id": "2c2d2534ece7fe8e",
   "outputs": [],
   "execution_count": 15
  },
  {
   "metadata": {},
   "cell_type": "markdown",
   "source": "checking the assumptions of the test",
   "id": "9892c792d6a37233"
  },
  {
   "metadata": {
    "ExecuteTime": {
     "end_time": "2025-04-26T17:08:56.891828Z",
     "start_time": "2025-04-26T17:08:56.887823Z"
    }
   },
   "cell_type": "code",
   "source": [
    "if n * p_0 > 5 and n * (1 - p_0) > 5:\n",
    "    print(\"Assumptions met: Proceed with the test.\")\n",
    "else:\n",
    "    print(\"Assumptions not met: Cannot proceed with the test.\")"
   ],
   "id": "129aef0ab132199c",
   "outputs": [
    {
     "name": "stdout",
     "output_type": "stream",
     "text": [
      "Assumptions met: Proceed with the test.\n"
     ]
    }
   ],
   "execution_count": 21
  },
  {
   "metadata": {},
   "cell_type": "markdown",
   "source": "define the different significance levels in order to test the hypothesis on different levels",
   "id": "b27c6670ff06b2f5"
  },
  {
   "metadata": {
    "ExecuteTime": {
     "end_time": "2025-04-26T16:54:32.831250Z",
     "start_time": "2025-04-26T16:54:32.828129Z"
    }
   },
   "cell_type": "code",
   "source": "significance_level = [0.01, 0.05, 0.1]",
   "id": "b4dbdaa8df2bbcf5",
   "outputs": [],
   "execution_count": 16
  },
  {
   "metadata": {
    "ExecuteTime": {
     "end_time": "2025-04-26T16:54:32.895303Z",
     "start_time": "2025-04-26T16:54:32.881350Z"
    }
   },
   "cell_type": "code",
   "source": [
    "for alpha in significance_level:\n",
    "    # Compute test statistic (z-score)\n",
    "    z_stat = (p_hat - p_0) / np.sqrt(p_0 * (1 - p_0) / n)\n",
    "\n",
    "    # Compute p-value (two-tailed test)\n",
    "    p_value = 2 * (1 - stats.norm.cdf(abs(z_stat)))\n",
    "\n",
    "    # Compute confidence interval\n",
    "    z_critical = stats.norm.ppf(1 - alpha / 2)\n",
    "    margin_of_error = z_critical * np.sqrt(p_hat * (1 - p_hat) / n)\n",
    "    confidence_interval = (p_hat - margin_of_error, p_hat + margin_of_error)\n",
    "\n",
    "    # Output results\n",
    "    print(f\"Significance Level: {alpha}\")\n",
    "    print(f\"Z-Statistic: {z_stat:.4f}\")\n",
    "    print(f\"P-Value: {p_value:.4f}\")\n",
    "    print(f\"{int((1 - alpha) * 100)}% Confidence Interval: {confidence_interval[0]:.4f} to {confidence_interval[1]:.4f}\")\n",
    "    if p_value < alpha:\n",
    "        print(\"Reject the null hypothesis: The proportion is significantly different from 50%.\")\n",
    "    else:\n",
    "        print(\"Fail to reject the null hypothesis: No significant evidence that the proportion is different from 50%.\")\n",
    "    print()\n"
   ],
   "id": "d8d1e75b07cbac63",
   "outputs": [
    {
     "name": "stdout",
     "output_type": "stream",
     "text": [
      "Significance Level: 0.01\n",
      "Z-Statistic: -7.5579\n",
      "P-Value: 0.0000\n",
      "99% Confidence Interval: 0.3871 to 0.4439\n",
      "Reject the null hypothesis: The proportion is significantly different from 50%.\n",
      "\n",
      "Significance Level: 0.05\n",
      "Z-Statistic: -7.5579\n",
      "P-Value: 0.0000\n",
      "95% Confidence Interval: 0.3939 to 0.4371\n",
      "Reject the null hypothesis: The proportion is significantly different from 50%.\n",
      "\n",
      "Significance Level: 0.1\n",
      "Z-Statistic: -7.5579\n",
      "P-Value: 0.0000\n",
      "90% Confidence Interval: 0.3974 to 0.4336\n",
      "Reject the null hypothesis: The proportion is significantly different from 50%.\n",
      "\n"
     ]
    }
   ],
   "execution_count": 17
  },
  {
   "metadata": {},
   "cell_type": "markdown",
   "source": [
    "### Conclusion\n",
    "Overall Conclusion\n",
    "Across all significance levels (0.01, 0.05, 0.1),\n",
    "the null hypothesis is rejected. This means there is strong statistical\n",
    " evidence that the proportion of students sleeping at least 8 hours per day is significantly\n",
    " different from 50%. The confidence intervals consistently show that the true proportion lies\n",
    " between approximately 38.7% and 44.4%, which is well below 50%. This suggests that fewer than\n",
    " half of the students are getting the recommended 8 hours of sleep per day.</hr>"
   ],
   "id": "6336af094cd8914b"
  },
  {
   "metadata": {},
   "cell_type": "markdown",
   "source": "Function to test the hypothesis for each GPA group",
   "id": "277fbaafc1273f73"
  },
  {
   "metadata": {
    "ExecuteTime": {
     "end_time": "2025-04-26T16:54:32.997680Z",
     "start_time": "2025-04-26T16:54:32.990802Z"
    }
   },
   "cell_type": "code",
   "source": [
    "def test_proportion_by_gpa_group(df, group_column, sleep_column, threshold, p_0=0.5, significance_levels=[0.01, 0.05, 0.1]):\n",
    "    results = {}\n",
    "    for group in df[group_column].unique():\n",
    "        group_data = df[df[group_column] == group]\n",
    "        n = len(group_data)  # Total number of students in the group\n",
    "        X = sum(group_data[sleep_column] >= threshold)  # Number of students sleeping at least the threshold\n",
    "        p_hat = X / n  # Sample proportion\n",
    "\n",
    "        group_results = {}\n",
    "        for alpha in significance_levels:\n",
    "            # Compute test statistic (z-score)\n",
    "            z_stat = (p_hat - p_0) / np.sqrt(p_0 * (1 - p_0) / n)\n",
    "\n",
    "            # Compute p-value (two-tailed test)\n",
    "            p_value = 2 * (1 - stats.norm.cdf(abs(z_stat)))\n",
    "\n",
    "            # Compute confidence interval\n",
    "            z_critical = stats.norm.ppf(1 - alpha / 2)\n",
    "            margin_of_error = z_critical * np.sqrt(p_hat * (1 - p_hat) / n)\n",
    "            confidence_interval = (p_hat - margin_of_error, p_hat + margin_of_error)\n",
    "\n",
    "            # Store results\n",
    "            group_results[alpha] = {\n",
    "                \"Z-Statistic\": z_stat,\n",
    "                \"P-Value\": p_value,\n",
    "                \"Confidence Interval\": confidence_interval,\n",
    "                \"Reject Null\": p_value < alpha\n",
    "            }\n",
    "        results[group] = group_results\n",
    "    return results\n"
   ],
   "id": "b8ea6e6048ea2a44",
   "outputs": [],
   "execution_count": 18
  },
  {
   "metadata": {
    "ExecuteTime": {
     "end_time": "2025-04-26T16:54:33.060196Z",
     "start_time": "2025-04-26T16:54:33.045452Z"
    }
   },
   "cell_type": "code",
   "source": "results = test_proportion_by_gpa_group(df, group_column='gpa_group', sleep_column='sleep_hours_per_day', threshold=8)",
   "id": "b54c6b11373d65ed",
   "outputs": [],
   "execution_count": 19
  },
  {
   "metadata": {
    "ExecuteTime": {
     "end_time": "2025-04-26T16:54:33.109347Z",
     "start_time": "2025-04-26T16:54:33.103460Z"
    }
   },
   "cell_type": "code",
   "source": [
    "for group, group_results in results.items():\n",
    "    print(f\"GPA Group: {group}\")\n",
    "    for alpha, result in group_results.items():\n",
    "        print(f\"  Significance Level: {alpha}\")\n",
    "        print(f\"    Z-Statistic: {result['Z-Statistic']:.4f}\")\n",
    "        print(f\"    P-Value: {result['P-Value']:.4f}\")\n",
    "        print(f\"    Confidence Interval: {result['Confidence Interval'][0]:.4f} to {result['Confidence Interval'][1]:.4f}\")\n",
    "        print(f\"    Reject Null Hypothesis: {result['Reject Null']}\")\n",
    "    print()"
   ],
   "id": "3f6976102f3d8f79",
   "outputs": [
    {
     "name": "stdout",
     "output_type": "stream",
     "text": [
      "GPA Group: 2.5-3\n",
      "  Significance Level: 0.01\n",
      "    Z-Statistic: -3.7499\n",
      "    P-Value: 0.0002\n",
      "    Confidence Interval: 0.3807 to 0.4773\n",
      "    Reject Null Hypothesis: True\n",
      "  Significance Level: 0.05\n",
      "    Z-Statistic: -3.7499\n",
      "    P-Value: 0.0002\n",
      "    Confidence Interval: 0.3922 to 0.4657\n",
      "    Reject Null Hypothesis: True\n",
      "  Significance Level: 0.1\n",
      "    Z-Statistic: -3.7499\n",
      "    P-Value: 0.0002\n",
      "    Confidence Interval: 0.3981 to 0.4598\n",
      "    Reject Null Hypothesis: True\n",
      "\n",
      "GPA Group: 3.5-4\n",
      "  Significance Level: 0.01\n",
      "    Z-Statistic: -0.8402\n",
      "    P-Value: 0.4008\n",
      "    Confidence Interval: 0.3806 to 0.5606\n",
      "    Reject Null Hypothesis: False\n",
      "  Significance Level: 0.05\n",
      "    Z-Statistic: -0.8402\n",
      "    P-Value: 0.4008\n",
      "    Confidence Interval: 0.4021 to 0.5391\n",
      "    Reject Null Hypothesis: False\n",
      "  Significance Level: 0.1\n",
      "    Z-Statistic: -0.8402\n",
      "    P-Value: 0.4008\n",
      "    Confidence Interval: 0.4131 to 0.5281\n",
      "    Reject Null Hypothesis: False\n",
      "\n",
      "GPA Group: 3-3.5\n",
      "  Significance Level: 0.01\n",
      "    Z-Statistic: -6.6895\n",
      "    P-Value: 0.0000\n",
      "    Confidence Interval: 0.3587 to 0.4360\n",
      "    Reject Null Hypothesis: True\n",
      "  Significance Level: 0.05\n",
      "    Z-Statistic: -6.6895\n",
      "    P-Value: 0.0000\n",
      "    Confidence Interval: 0.3679 to 0.4268\n",
      "    Reject Null Hypothesis: True\n",
      "  Significance Level: 0.1\n",
      "    Z-Statistic: -6.6895\n",
      "    P-Value: 0.0000\n",
      "    Confidence Interval: 0.3727 to 0.4221\n",
      "    Reject Null Hypothesis: True\n",
      "\n",
      "GPA Group: 2-2.5\n",
      "  Significance Level: 0.01\n",
      "    Z-Statistic: -1.4796\n",
      "    P-Value: 0.1390\n",
      "    Confidence Interval: 0.1730 to 0.5838\n",
      "    Reject Null Hypothesis: False\n",
      "  Significance Level: 0.05\n",
      "    Z-Statistic: -1.4796\n",
      "    P-Value: 0.1390\n",
      "    Confidence Interval: 0.2221 to 0.5346\n",
      "    Reject Null Hypothesis: False\n",
      "  Significance Level: 0.1\n",
      "    Z-Statistic: -1.4796\n",
      "    P-Value: 0.1390\n",
      "    Confidence Interval: 0.2472 to 0.5095\n",
      "    Reject Null Hypothesis: False\n",
      "\n"
     ]
    }
   ],
   "execution_count": 20
  },
  {
   "metadata": {},
   "cell_type": "markdown",
   "source": [
    "### Interpretation of Sleep Patterns Across GPA Groups\n",
    "\n",
    "**Statistical Findings:**\n",
    "- **Middle GPA ranges (2.5-3 and 3-3.5)**: Significantly fewer than 50% of students get the recommended 8+ hours of sleep.\n",
    "- **Highest and Lowest GPA ranges (2-2.5 and 3.5-4)**: No statistical evidence that the proportion differs from 50%.\n",
    "\n",
    "**Potential Explanations:**\n",
    "1. **U-shaped relationship**: Sleep patterns may follow a U-shaped curve relative to academic performance, with both high and low GPA students more likely to prioritize adequate sleep.\n",
    "\n",
    "2. **Different causes**:\n",
    "   - High-GPA students (3.5-4) may practice better sleep hygiene as part of overall better self-care.\n",
    "   - Low-GPA students (2-2.5) might have lower academic demands or prioritize sleep over additional study time.\n",
    "   - Middle-GPA students (2.5-3.5) may sacrifice sleep to maintain their academic standing through longer study hours.\n",
    "\n",
    "3. **Time management**:\n",
    "    Students in the middle GPA ranges might be struggling with time management, trying to balance academic requirements with other commitments.\n",
    "\n",
    "These findings challenge the simple assumption that **\"more sleep equals better grades\"** and suggest a more complex relationship between sleep habits and academic performance."
   ],
   "id": "c8aa536c908e3b5c"
  }
 ],
 "metadata": {
  "kernelspec": {
   "display_name": "Python 3",
   "language": "python",
   "name": "python3"
  },
  "language_info": {
   "codemirror_mode": {
    "name": "ipython",
    "version": 2
   },
   "file_extension": ".py",
   "mimetype": "text/x-python",
   "name": "python",
   "nbconvert_exporter": "python",
   "pygments_lexer": "ipython2",
   "version": "2.7.6"
  }
 },
 "nbformat": 4,
 "nbformat_minor": 5
}
