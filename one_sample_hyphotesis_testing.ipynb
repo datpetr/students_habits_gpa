{
 "cells": [
  {
   "cell_type": "code",
   "id": "initial_id",
   "metadata": {
    "collapsed": true,
    "ExecuteTime": {
     "end_time": "2025-04-06T09:52:28.299871Z",
     "start_time": "2025-04-06T09:52:27.674797Z"
    }
   },
   "source": [
    "import pandas as pd\n",
    "import numpy as np\n",
    "import scipy.stats as stats"
   ],
   "outputs": [],
   "execution_count": 1
  },
  {
   "metadata": {
    "ExecuteTime": {
     "end_time": "2025-04-06T09:53:24.291963Z",
     "start_time": "2025-04-06T09:53:24.285219Z"
    }
   },
   "cell_type": "code",
   "source": "df = pd.read_csv(\"data/cleaned_student_lifestyle_dataset.csv\")",
   "id": "15a77c790990d94b",
   "outputs": [],
   "execution_count": 2
  },
  {
   "metadata": {},
   "cell_type": "code",
   "outputs": [],
   "execution_count": null,
   "source": "df.head()",
   "id": "a1f19ad7c35118db"
  },
  {
   "metadata": {},
   "cell_type": "markdown",
   "source": "### 1. Can we reject the hypothesis that the students get healthy 8 hours of sleep per day on average?\n",
   "id": "7cf669ac49652f37"
  },
  {
   "metadata": {},
   "cell_type": "markdown",
   "source": "Hypothesis testing",
   "id": "6f5a3e4da38d0c68"
  },
  {
   "metadata": {},
   "cell_type": "code",
   "outputs": [],
   "execution_count": null,
   "source": "t_stat, p_value = stats.ttest_1samp(df['sleep_hours_per_day'], 8)",
   "id": "1bc4f883e3d4dfc0"
  },
  {
   "metadata": {
    "ExecuteTime": {
     "end_time": "2025-04-06T09:54:22.190828Z",
     "start_time": "2025-04-06T09:54:22.187473Z"
    }
   },
   "cell_type": "code",
   "source": [
    "mean_sleep = df['sleep_hours_per_day'].mean()\n",
    "std_sleep = df['sleep_hours_per_day'].std()\n",
    "n = len(df['sleep_hours_per_day'])"
   ],
   "id": "209b0c7d6eeba006",
   "outputs": [],
   "execution_count": 3
  },
  {
   "metadata": {
    "ExecuteTime": {
     "end_time": "2025-04-06T09:55:16.777006Z",
     "start_time": "2025-04-06T09:55:16.772730Z"
    }
   },
   "cell_type": "code",
   "source": [
    "for conf in [0.90, 0.95, 0.99]:\n",
    "    confidence_interval = stats.t.interval(conf, n-1, loc=mean_sleep, scale=std_sleep/np.sqrt(n))\n",
    "    print(f\"Confidence interval at {int(conf * 100)}%: {confidence_interval[0]:.2f} to {confidence_interval[1]:.2f}\")"
   ],
   "id": "e0f1441a9a7c175b",
   "outputs": [
    {
     "name": "stdout",
     "output_type": "stream",
     "text": [
      "Confidence interval at 90%: 7.45 to 7.56\n",
      "Confidence interval at 95%: 7.44 to 7.57\n",
      "Confidence interval at 99%: 7.42 to 7.59\n"
     ]
    }
   ],
   "execution_count": 4
  },
  {
   "metadata": {},
   "cell_type": "markdown",
   "source": [
    "### Interpretation of Results\n",
    "\n",
    "#### T-statistic: 14.94\n",
    "This indicates that the sample mean is significantly different from the hypothesized mean of 7 hours. The positive value suggests that the sample mean is greater than 7 hours.\n",
    "\n",
    "#### P-value: 0.00\n",
    "The p-value is extremely small (essentially zero), which means there is strong evidence against the null hypothesis. We can reject the null hypothesis that students study an average of 7 hours per day.\n",
    "\n",
    "#### Confidence Intervals:\n",
    "- **90% Confidence Interval: 7.42 to 7.53**: We are 90% confident that the true mean study hours per day for students lies between 7.42 and 7.53 hours.\n",
    "- **95% Confidence Interval: 7.41 to 7.54**: We are 95% confident that the true mean study hours per day for students lies between 7.41 and 7.54 hours.\n",
    "- **99% Confidence Interval: 7.39 to 7.56**: We are 99% confident that the true mean study hours per day for students lies between 7.39 and 7.56 hours.\n",
    "\n",
    "Since all these intervals do not include 8 hours, it further supports rejecting the null hypothesis.\n",
    "\n",
    "### Conclusion\n",
    "We can reject the hypothesis that students study an average of 7 hours per day. The actual average study duration is likely between 7.39 and 7.56 hours, which is more than the recommended 7 hours."
   ],
   "id": "3c6a4a5f69b31d50"
  },
  {
   "metadata": {},
   "cell_type": "markdown",
   "source": "Perform hypothesis testing to check for different groups the students are getting healthy 8 hours of sleep per day on average.",
   "id": "bfa319ec6e3a061e"
  },
  {
   "metadata": {},
   "cell_type": "markdown",
   "source": "Ensure 'gpa_group' is of category dtype",
   "id": "18da5d444e53b715"
  },
  {
   "metadata": {
    "ExecuteTime": {
     "end_time": "2025-04-06T09:57:32.140438Z",
     "start_time": "2025-04-06T09:57:32.136689Z"
    }
   },
   "cell_type": "code",
   "source": "df['gpa_group'] = df['gpa_group'].astype('category')",
   "id": "eb3547a5da5b72a9",
   "outputs": [],
   "execution_count": 5
  },
  {
   "metadata": {},
   "cell_type": "markdown",
   "source": "Function to perform hypothesis testing and calculate confidence intervals",
   "id": "9e670e648f2eddf3"
  },
  {
   "metadata": {
    "ExecuteTime": {
     "end_time": "2025-04-06T09:57:51.208044Z",
     "start_time": "2025-04-06T09:57:51.204313Z"
    }
   },
   "cell_type": "code",
   "source": [
    "def analyze_sleep_by_gpa_group(df, group):\n",
    "    group_data = df[df['gpa_group'] == group]['sleep_hours_per_day']\n",
    "    t_stat, p_value = stats.ttest_1samp(group_data, 8)\n",
    "    mean_sleep = group_data.mean()\n",
    "    std_sleep = group_data.std()\n",
    "    n = len(group_data)\n",
    "\n",
    "    confidence_intervals = {}\n",
    "    for conf in [0.90, 0.95, 0.99]:\n",
    "        confidence_interval = stats.t.interval(conf, n-1, loc=mean_sleep, scale=std_sleep/np.sqrt(n))\n",
    "        confidence_intervals[f\"{int(conf * 100)}%\"] = confidence_interval\n",
    "\n",
    "    return t_stat, p_value, confidence_intervals"
   ],
   "id": "ca5863f786abee9e",
   "outputs": [],
   "execution_count": 6
  },
  {
   "metadata": {},
   "cell_type": "markdown",
   "source": "Analyze each GPA group",
   "id": "5e7b304969d90091"
  },
  {
   "metadata": {
    "ExecuteTime": {
     "end_time": "2025-04-06T09:58:03.179148Z",
     "start_time": "2025-04-06T09:58:03.166376Z"
    }
   },
   "cell_type": "code",
   "source": [
    "results = {}\n",
    "for group in df['gpa_group'].cat.categories:\n",
    "    t_stat, p_value, confidence_intervals = analyze_sleep_by_gpa_group(df, group)\n",
    "    results[group] = {\n",
    "        'T-statistic': t_stat,\n",
    "        'P-value': p_value,\n",
    "        'Confidence Intervals': confidence_intervals\n",
    "    }"
   ],
   "id": "fadb3714f4a01abe",
   "outputs": [],
   "execution_count": 7
  },
  {
   "metadata": {
    "ExecuteTime": {
     "end_time": "2025-04-06T09:58:09.985522Z",
     "start_time": "2025-04-06T09:58:09.982036Z"
    }
   },
   "cell_type": "code",
   "source": [
    "for group, result in results.items():\n",
    "    print(f\"GPA Group: {group}\")\n",
    "    print(f\"T-statistic: {result['T-statistic']:.2f}\")\n",
    "    print(f\"P-value: {result['P-value']:.2f}\")\n",
    "    for conf, interval in result['Confidence Intervals'].items():\n",
    "        print(f\"{conf} Confidence Interval: {interval[0]:.2f} to {interval[1]:.2f}\")\n",
    "    print()"
   ],
   "id": "b1453dab0ce88318",
   "outputs": [
    {
     "name": "stdout",
     "output_type": "stream",
     "text": [
      "GPA Group: 2-2.5\n",
      "T-statistic: -1.95\n",
      "P-value: 0.06\n",
      "90% Confidence Interval: 7.10 to 7.94\n",
      "95% Confidence Interval: 7.01 to 8.02\n",
      "99% Confidence Interval: 6.84 to 8.19\n",
      "\n",
      "GPA Group: 2.5-3\n",
      "T-statistic: -8.32\n",
      "P-value: 0.00\n",
      "90% Confidence Interval: 7.44 to 7.63\n",
      "95% Confidence Interval: 7.43 to 7.65\n",
      "99% Confidence Interval: 7.39 to 7.68\n",
      "\n",
      "GPA Group: 3-3.5\n",
      "T-statistic: -12.59\n",
      "P-value: 0.00\n",
      "90% Confidence Interval: 7.37 to 7.52\n",
      "95% Confidence Interval: 7.36 to 7.53\n",
      "99% Confidence Interval: 7.33 to 7.56\n",
      "\n",
      "GPA Group: 3.5-4\n",
      "T-statistic: -3.00\n",
      "P-value: 0.00\n",
      "90% Confidence Interval: 7.52 to 7.86\n",
      "95% Confidence Interval: 7.48 to 7.89\n",
      "99% Confidence Interval: 7.42 to 7.96\n",
      "\n"
     ]
    }
   ],
   "execution_count": 8
  },
  {
   "metadata": {},
   "cell_type": "markdown",
   "source": [
    "### Interpretation of Results\n",
    "\n",
    "#### GPA Group: 2-2.5\n",
    "- **T-statistic**: -1.95\n",
    "- **P-value**: 0.06\n",
    "- **90% Confidence Interval**: 7.10 to 7.94\n",
    "- **95% Confidence Interval**: 7.01 to 8.02\n",
    "- **99% Confidence Interval**: 6.84 to 8.19\n",
    "\n",
    "#### GPA Group: 2.5-3\n",
    "- **T-statistic**: -8.32\n",
    "- **P-value**: 0.00\n",
    "- **90% Confidence Interval**: 7.44 to 7.63\n",
    "- **95% Confidence Interval**: 7.43 to 7.65\n",
    "- **99% Confidence Interval**: 7.39 to 7.68\n",
    "\n",
    "#### GPA Group: 3-3.5\n",
    "- **T-statistic**: -12.59\n",
    "- **P-value**: 0.00\n",
    "- **90% Confidence Interval**: 7.37 to 7.52\n",
    "- **95% Confidence Interval**: 7.36 to 7.53\n",
    "- **99% Confidence Interval**: 7.33 to 7.56\n",
    "\n",
    "#### GPA Group: 3.5-4\n",
    "- **T-statistic**: -3.00\n",
    "- **P-value**: 0.00\n",
    "- **90% Confidence Interval**: 7.52 to 7.86\n",
    "- **95% Confidence Interval**: 7.48 to 7.89\n",
    "- **99% Confidence Interval**: 7.42 to 7.96\n",
    "\n",
    "### Conclusion\n",
    "For GPA group 2-2.5, the evidence is not strong enough to reject the null hypothesis at the 5% significance level. For GPA groups 2.5-3, 3-3.5, and 3.5-4, the T-statistics are significantly negative, and the P-values are extremely small, indicating strong evidence against the null hypothesis. The actual average sleep duration for these groups is significantly less than 8 hours."
   ],
   "id": "b57661054eb29421"
  },
  {
   "metadata": {},
   "cell_type": "markdown",
   "source": "",
   "id": "4cc1a925f9406dc7"
  }
 ],
 "metadata": {
  "kernelspec": {
   "display_name": "Python 3",
   "language": "python",
   "name": "python3"
  },
  "language_info": {
   "codemirror_mode": {
    "name": "ipython",
    "version": 2
   },
   "file_extension": ".py",
   "mimetype": "text/x-python",
   "name": "python",
   "nbconvert_exporter": "python",
   "pygments_lexer": "ipython2",
   "version": "2.7.6"
  }
 },
 "nbformat": 4,
 "nbformat_minor": 5
}
