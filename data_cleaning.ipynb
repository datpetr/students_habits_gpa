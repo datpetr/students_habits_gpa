{
 "cells": [
  {
   "metadata": {},
   "cell_type": "markdown",
   "source": "### 1. Import necessary libraries",
   "id": "fe9910ae7b791b55"
  },
  {
   "metadata": {
    "ExecuteTime": {
     "end_time": "2025-04-04T13:38:31.216681Z",
     "start_time": "2025-04-04T13:38:31.214344Z"
    }
   },
   "cell_type": "code",
   "source": [
    "import pandas as pd\n",
    "import numpy as np\n",
    "import matplotlib.pyplot as plt\n",
    "import seaborn as sns"
   ],
   "id": "dd4435af19086cb5",
   "outputs": [],
   "execution_count": 1
  },
  {
   "metadata": {},
   "cell_type": "markdown",
   "source": "### 2. Load and inspect the data",
   "id": "4f49ad6eae497e38"
  },
  {
   "metadata": {},
   "cell_type": "code",
   "outputs": [],
   "execution_count": null,
   "source": "df = pd.read_csv",
   "id": "21093d15f8d59337"
  },
  {
   "metadata": {},
   "cell_type": "markdown",
   "source": "",
   "id": "2fe206553ef9d46"
  }
 ],
 "metadata": {
  "kernelspec": {
   "display_name": "Python 3",
   "language": "python",
   "name": "python3"
  },
  "language_info": {
   "codemirror_mode": {
    "name": "ipython",
    "version": 2
   },
   "file_extension": ".py",
   "mimetype": "text/x-python",
   "name": "python",
   "nbconvert_exporter": "python",
   "pygments_lexer": "ipython2",
   "version": "2.7.6"
  }
 },
 "nbformat": 4,
 "nbformat_minor": 5
}
