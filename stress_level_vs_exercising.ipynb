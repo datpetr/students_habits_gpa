{
 "cells": [
  {
   "cell_type": "code",
   "id": "initial_id",
   "metadata": {
    "collapsed": true,
    "ExecuteTime": {
     "end_time": "2025-05-27T11:25:28.270898Z",
     "start_time": "2025-05-27T11:25:28.268210Z"
    }
   },
   "source": [
    "import pandas as pd\n",
    "import numpy as np\n",
    "import matplotlib.pyplot as plt\n",
    "import seaborn as sns\n",
    "from scipy import stats"
   ],
   "outputs": [],
   "execution_count": 2
  },
  {
   "metadata": {
    "ExecuteTime": {
     "end_time": "2025-05-27T11:25:28.324436Z",
     "start_time": "2025-05-27T11:25:28.305787Z"
    }
   },
   "cell_type": "code",
   "source": "df = pd.read_csv('data/cleaned_student_lifestyle_dataset.csv')",
   "id": "e31f9f04fd1725ab",
   "outputs": [],
   "execution_count": 3
  },
  {
   "metadata": {
    "ExecuteTime": {
     "end_time": "2025-05-27T11:25:28.379682Z",
     "start_time": "2025-05-27T11:25:28.366623Z"
    }
   },
   "cell_type": "code",
   "source": "df.head()",
   "id": "a85a68ffd6c871af",
   "outputs": [
    {
     "data": {
      "text/plain": [
       "   student_id  study_hours_per_day  extracurricular_hours_per_day  \\\n",
       "0           1                  6.9                            3.8   \n",
       "1           2                  5.3                            3.5   \n",
       "2           3                  5.1                            3.9   \n",
       "3           4                  6.5                            2.1   \n",
       "4           5                  8.1                            0.6   \n",
       "\n",
       "   sleep_hours_per_day  social_hours_per_day  physical_activity_hours_per_day  \\\n",
       "0                  8.7                   2.8                              1.8   \n",
       "1                  8.0                   4.2                              3.0   \n",
       "2                  9.2                   1.2                              4.6   \n",
       "3                  7.2                   1.7                              6.5   \n",
       "4                  6.5                   2.2                              6.6   \n",
       "\n",
       "    gpa stress_level  stress_level_numeric gpa_group  \n",
       "0  2.99     Moderate                     2     2.5-3  \n",
       "1  2.75          Low                     1     2.5-3  \n",
       "2  2.67          Low                     1     2.5-3  \n",
       "3  2.88     Moderate                     2     2.5-3  \n",
       "4  3.51         High                     3     3.5-4  "
      ],
      "text/html": [
       "<div>\n",
       "<style scoped>\n",
       "    .dataframe tbody tr th:only-of-type {\n",
       "        vertical-align: middle;\n",
       "    }\n",
       "\n",
       "    .dataframe tbody tr th {\n",
       "        vertical-align: top;\n",
       "    }\n",
       "\n",
       "    .dataframe thead th {\n",
       "        text-align: right;\n",
       "    }\n",
       "</style>\n",
       "<table border=\"1\" class=\"dataframe\">\n",
       "  <thead>\n",
       "    <tr style=\"text-align: right;\">\n",
       "      <th></th>\n",
       "      <th>student_id</th>\n",
       "      <th>study_hours_per_day</th>\n",
       "      <th>extracurricular_hours_per_day</th>\n",
       "      <th>sleep_hours_per_day</th>\n",
       "      <th>social_hours_per_day</th>\n",
       "      <th>physical_activity_hours_per_day</th>\n",
       "      <th>gpa</th>\n",
       "      <th>stress_level</th>\n",
       "      <th>stress_level_numeric</th>\n",
       "      <th>gpa_group</th>\n",
       "    </tr>\n",
       "  </thead>\n",
       "  <tbody>\n",
       "    <tr>\n",
       "      <th>0</th>\n",
       "      <td>1</td>\n",
       "      <td>6.9</td>\n",
       "      <td>3.8</td>\n",
       "      <td>8.7</td>\n",
       "      <td>2.8</td>\n",
       "      <td>1.8</td>\n",
       "      <td>2.99</td>\n",
       "      <td>Moderate</td>\n",
       "      <td>2</td>\n",
       "      <td>2.5-3</td>\n",
       "    </tr>\n",
       "    <tr>\n",
       "      <th>1</th>\n",
       "      <td>2</td>\n",
       "      <td>5.3</td>\n",
       "      <td>3.5</td>\n",
       "      <td>8.0</td>\n",
       "      <td>4.2</td>\n",
       "      <td>3.0</td>\n",
       "      <td>2.75</td>\n",
       "      <td>Low</td>\n",
       "      <td>1</td>\n",
       "      <td>2.5-3</td>\n",
       "    </tr>\n",
       "    <tr>\n",
       "      <th>2</th>\n",
       "      <td>3</td>\n",
       "      <td>5.1</td>\n",
       "      <td>3.9</td>\n",
       "      <td>9.2</td>\n",
       "      <td>1.2</td>\n",
       "      <td>4.6</td>\n",
       "      <td>2.67</td>\n",
       "      <td>Low</td>\n",
       "      <td>1</td>\n",
       "      <td>2.5-3</td>\n",
       "    </tr>\n",
       "    <tr>\n",
       "      <th>3</th>\n",
       "      <td>4</td>\n",
       "      <td>6.5</td>\n",
       "      <td>2.1</td>\n",
       "      <td>7.2</td>\n",
       "      <td>1.7</td>\n",
       "      <td>6.5</td>\n",
       "      <td>2.88</td>\n",
       "      <td>Moderate</td>\n",
       "      <td>2</td>\n",
       "      <td>2.5-3</td>\n",
       "    </tr>\n",
       "    <tr>\n",
       "      <th>4</th>\n",
       "      <td>5</td>\n",
       "      <td>8.1</td>\n",
       "      <td>0.6</td>\n",
       "      <td>6.5</td>\n",
       "      <td>2.2</td>\n",
       "      <td>6.6</td>\n",
       "      <td>3.51</td>\n",
       "      <td>High</td>\n",
       "      <td>3</td>\n",
       "      <td>3.5-4</td>\n",
       "    </tr>\n",
       "  </tbody>\n",
       "</table>\n",
       "</div>"
      ]
     },
     "execution_count": 4,
     "metadata": {},
     "output_type": "execute_result"
    }
   ],
   "execution_count": 4
  },
  {
   "metadata": {},
   "cell_type": "markdown",
   "source": "Filter data to include only Low and High stress levels",
   "id": "51c9617798adeffc"
  },
  {
   "metadata": {
    "ExecuteTime": {
     "end_time": "2025-05-27T11:25:28.499830Z",
     "start_time": "2025-05-27T11:25:28.493206Z"
    }
   },
   "cell_type": "code",
   "source": "df_filtered = df[df['stress_level'].isin(['Low', 'High'])]",
   "id": "bb272fd691333d1c",
   "outputs": [],
   "execution_count": 5
  },
  {
   "metadata": {
    "ExecuteTime": {
     "end_time": "2025-05-27T11:25:28.665390Z",
     "start_time": "2025-05-27T11:25:28.654042Z"
    }
   },
   "cell_type": "code",
   "source": "df_filtered.head()",
   "id": "d06c687d80a86c34",
   "outputs": [
    {
     "data": {
      "text/plain": [
       "   student_id  study_hours_per_day  extracurricular_hours_per_day  \\\n",
       "1           2                  5.3                            3.5   \n",
       "2           3                  5.1                            3.9   \n",
       "4           5                  8.1                            0.6   \n",
       "6           7                  8.0                            0.7   \n",
       "7           8                  8.4                            1.8   \n",
       "\n",
       "   sleep_hours_per_day  social_hours_per_day  physical_activity_hours_per_day  \\\n",
       "1                  8.0                   4.2                              3.0   \n",
       "2                  9.2                   1.2                              4.6   \n",
       "4                  6.5                   2.2                              6.6   \n",
       "6                  5.3                   5.7                              4.3   \n",
       "7                  5.6                   3.0                              5.2   \n",
       "\n",
       "    gpa stress_level  stress_level_numeric gpa_group  \n",
       "1  2.75          Low                     1     2.5-3  \n",
       "2  2.67          Low                     1     2.5-3  \n",
       "4  3.51         High                     3     3.5-4  \n",
       "6  3.08         High                     3     3-3.5  \n",
       "7  3.20         High                     3     3-3.5  "
      ],
      "text/html": [
       "<div>\n",
       "<style scoped>\n",
       "    .dataframe tbody tr th:only-of-type {\n",
       "        vertical-align: middle;\n",
       "    }\n",
       "\n",
       "    .dataframe tbody tr th {\n",
       "        vertical-align: top;\n",
       "    }\n",
       "\n",
       "    .dataframe thead th {\n",
       "        text-align: right;\n",
       "    }\n",
       "</style>\n",
       "<table border=\"1\" class=\"dataframe\">\n",
       "  <thead>\n",
       "    <tr style=\"text-align: right;\">\n",
       "      <th></th>\n",
       "      <th>student_id</th>\n",
       "      <th>study_hours_per_day</th>\n",
       "      <th>extracurricular_hours_per_day</th>\n",
       "      <th>sleep_hours_per_day</th>\n",
       "      <th>social_hours_per_day</th>\n",
       "      <th>physical_activity_hours_per_day</th>\n",
       "      <th>gpa</th>\n",
       "      <th>stress_level</th>\n",
       "      <th>stress_level_numeric</th>\n",
       "      <th>gpa_group</th>\n",
       "    </tr>\n",
       "  </thead>\n",
       "  <tbody>\n",
       "    <tr>\n",
       "      <th>1</th>\n",
       "      <td>2</td>\n",
       "      <td>5.3</td>\n",
       "      <td>3.5</td>\n",
       "      <td>8.0</td>\n",
       "      <td>4.2</td>\n",
       "      <td>3.0</td>\n",
       "      <td>2.75</td>\n",
       "      <td>Low</td>\n",
       "      <td>1</td>\n",
       "      <td>2.5-3</td>\n",
       "    </tr>\n",
       "    <tr>\n",
       "      <th>2</th>\n",
       "      <td>3</td>\n",
       "      <td>5.1</td>\n",
       "      <td>3.9</td>\n",
       "      <td>9.2</td>\n",
       "      <td>1.2</td>\n",
       "      <td>4.6</td>\n",
       "      <td>2.67</td>\n",
       "      <td>Low</td>\n",
       "      <td>1</td>\n",
       "      <td>2.5-3</td>\n",
       "    </tr>\n",
       "    <tr>\n",
       "      <th>4</th>\n",
       "      <td>5</td>\n",
       "      <td>8.1</td>\n",
       "      <td>0.6</td>\n",
       "      <td>6.5</td>\n",
       "      <td>2.2</td>\n",
       "      <td>6.6</td>\n",
       "      <td>3.51</td>\n",
       "      <td>High</td>\n",
       "      <td>3</td>\n",
       "      <td>3.5-4</td>\n",
       "    </tr>\n",
       "    <tr>\n",
       "      <th>6</th>\n",
       "      <td>7</td>\n",
       "      <td>8.0</td>\n",
       "      <td>0.7</td>\n",
       "      <td>5.3</td>\n",
       "      <td>5.7</td>\n",
       "      <td>4.3</td>\n",
       "      <td>3.08</td>\n",
       "      <td>High</td>\n",
       "      <td>3</td>\n",
       "      <td>3-3.5</td>\n",
       "    </tr>\n",
       "    <tr>\n",
       "      <th>7</th>\n",
       "      <td>8</td>\n",
       "      <td>8.4</td>\n",
       "      <td>1.8</td>\n",
       "      <td>5.6</td>\n",
       "      <td>3.0</td>\n",
       "      <td>5.2</td>\n",
       "      <td>3.20</td>\n",
       "      <td>High</td>\n",
       "      <td>3</td>\n",
       "      <td>3-3.5</td>\n",
       "    </tr>\n",
       "  </tbody>\n",
       "</table>\n",
       "</div>"
      ]
     },
     "execution_count": 6,
     "metadata": {},
     "output_type": "execute_result"
    }
   ],
   "execution_count": 6
  },
  {
   "metadata": {},
   "cell_type": "markdown",
   "source": "### 1. Check the visualization of the data",
   "id": "3a3760ad10750b62"
  },
  {
   "metadata": {},
   "cell_type": "markdown",
   "source": "Define low and high stress groups",
   "id": "823302f7be06ab2f"
  },
  {
   "metadata": {
    "ExecuteTime": {
     "end_time": "2025-05-27T11:25:28.894121Z",
     "start_time": "2025-05-27T11:25:28.890039Z"
    }
   },
   "cell_type": "code",
   "source": [
    "low_stress = df[df['stress_level'] == 'Low']['physical_activity_hours_per_day']\n",
    "high_stress = df[df['stress_level'] == 'High']['physical_activity_hours_per_day']"
   ],
   "id": "9ae692a69f0edded",
   "outputs": [],
   "execution_count": 7
  },
  {
   "metadata": {},
   "cell_type": "markdown",
   "source": "Visual exploration of the groups",
   "id": "b7c96649f93bdba7"
  },
  {
   "metadata": {
    "ExecuteTime": {
     "end_time": "2025-05-27T11:25:29.427955Z",
     "start_time": "2025-05-27T11:25:29.070794Z"
    }
   },
   "cell_type": "code",
   "source": [
    "plt.figure(figsize=(12, 6))\n",
    "\n",
    "# Boxplot\n",
    "plt.subplot(1, 2, 1)\n",
    "sns.boxplot(x='stress_level', y='physical_activity_hours_per_day', data=df_filtered)\n",
    "plt.title('Physical Activity by Stress Level')\n",
    "plt.ylabel('Physical Activity (hours/day)')\n",
    "\n",
    "# Histogram\n",
    "plt.subplot(1, 2, 2)\n",
    "sns.histplot(low_stress, color='blue', alpha=0.5, label='Low Stress')\n",
    "sns.histplot(high_stress, color='red', alpha=0.5, label='High Stress')\n",
    "plt.title('Distribution of Exercise Hours')\n",
    "plt.xlabel('Physical Activity (hours/day)')\n",
    "plt.legend()\n",
    "\n",
    "plt.tight_layout()\n",
    "plt.show()"
   ],
   "id": "bbc84d343ecd8805",
   "outputs": [
    {
     "data": {
      "text/plain": [
       "<Figure size 1200x600 with 2 Axes>"
      ],
      "image/png": "[encoded data removed]"
     },
     "metadata": {},
     "output_type": "display_data"
    }
   ],
   "execution_count": 8
  },
  {
   "metadata": {},
   "cell_type": "markdown",
   "source": "Graphs show that low-stress students tend to have higher physical activity hours per day compared to high-stress students. Let's perform a statistical test to confirm this observation.",
   "id": "a1e9cfb584d8f42c"
  },
  {
   "metadata": {},
   "cell_type": "markdown",
   "source": "### 2. Before testing we need to check the normality of the data",
   "id": "b202425bc3e90de9"
  },
  {
   "metadata": {},
   "cell_type": "markdown",
   "source": "Visual check with Q-Q plot",
   "id": "18a11c1acc2e4989"
  },
  {
   "metadata": {
    "ExecuteTime": {
     "end_time": "2025-05-27T11:25:29.706172Z",
     "start_time": "2025-05-27T11:25:29.446568Z"
    }
   },
   "cell_type": "code",
   "source": [
    "plt.figure(figsize=(12, 5))\n",
    "plt.subplot(1, 2, 1)\n",
    "stats.probplot(low_stress, dist=\"norm\", plot=plt)\n",
    "plt.title('Q-Q Plot for Low Stress Group')\n",
    "\n",
    "plt.subplot(1, 2, 2)\n",
    "stats.probplot(high_stress, dist=\"norm\", plot=plt)\n",
    "plt.title('Q-Q Plot for High Stress Group')\n",
    "\n",
    "plt.tight_layout()\n",
    "plt.show()"
   ],
   "id": "94a3b5024e83a9a0",
   "outputs": [
    {
     "data": {
      "text/plain": [
       "<Figure size 1200x500 with 2 Axes>"
      ],
      "image/png": "[encoded data removed]"
     },
     "metadata": {},
     "output_type": "display_data"
    }
   ],
   "execution_count": 9
  },
  {
   "metadata": {},
   "cell_type": "markdown",
   "source": "as we saw before the data for high-stress group is not normally distributed, let's use the Shapiro-Wilk test to confirm this",
   "id": "6633889bb3622adf"
  },
  {
   "metadata": {
    "ExecuteTime": {
     "end_time": "2025-05-27T11:25:29.728771Z",
     "start_time": "2025-05-27T11:25:29.724593Z"
    }
   },
   "cell_type": "code",
   "source": [
    "shapiro_low = stats.shapiro(low_stress)\n",
    "shapiro_high = stats.shapiro(high_stress)\n",
    "print(f\"Low stress group: W={shapiro_low[0]:.4f}, p={shapiro_low[1]:.4f}\")\n",
    "print(f\"High stress group: W={shapiro_high[0]:.4f}, p={shapiro_high[1]:.4f}\")\n",
    "print(f\"Normality assumption {'violated' if (shapiro_low[1] < 0.05 or shapiro_high[1] < 0.05) else 'satisfied'}\")"
   ],
   "id": "c9f3d419359802f",
   "outputs": [
    {
     "name": "stdout",
     "output_type": "stream",
     "text": [
      "Low stress group: W=0.9943, p=0.3364\n",
      "High stress group: W=0.9559, p=0.0000\n",
      "Normality assumption violated\n"
     ]
    }
   ],
   "execution_count": 10
  },
  {
   "metadata": {},
   "cell_type": "markdown",
   "source": "Yes, if we saw the Q-Q plot and the Shapiro-Wilk test, we can conclude that the normality assumption is violated for the high-stress group. Therefore, we should try transform data to make it normally distributed. If that doesn't work, we can use non-parametric tests like the Mann-Whitney U test or bootstrapping methods to compare the two groups.",
   "id": "4c140dbd686bf605"
  },
  {
   "metadata": {},
   "cell_type": "markdown",
   "source": "### 3. Apply transformation to the data to make it normally distributed",
   "id": "b46cc3c9b06a975a"
  },
  {
   "metadata": {
    "ExecuteTime": {
     "end_time": "2025-05-27T11:25:29.786088Z",
     "start_time": "2025-05-27T11:25:29.782742Z"
    }
   },
   "cell_type": "code",
   "source": "results = pd.DataFrame(columns=['Transformation', 'Low_W', 'Low_p', 'High_W', 'High_p', 'Normal'])",
   "id": "c929aab0f1186d02",
   "outputs": [],
   "execution_count": 11
  },
  {
   "metadata": {},
   "cell_type": "markdown",
   "source": "Original data",
   "id": "feab03b3f4fbd89"
  },
  {
   "metadata": {
    "ExecuteTime": {
     "end_time": "2025-05-27T11:25:29.841650Z",
     "start_time": "2025-05-27T11:25:29.837432Z"
    }
   },
   "cell_type": "code",
   "source": [
    "def add_shapiro_results(df, transformation_name, low_data, high_data):\n",
    "    try:\n",
    "        # Check if we need to run Shapiro-Wilk test\n",
    "        if hasattr(low_data, '__len__') and len(low_data) > 2:\n",
    "            # Input is data, not test results\n",
    "            shapiro_low = stats.shapiro(low_data)\n",
    "            shapiro_high = stats.shapiro(high_data)\n",
    "        else:\n",
    "            # Input is already test results\n",
    "            shapiro_low = low_data\n",
    "            shapiro_high = high_data\n",
    "\n",
    "        new_row = {\n",
    "            'Transformation': transformation_name,\n",
    "            'Low_W': shapiro_low[0],\n",
    "            'Low_p': shapiro_low[1],\n",
    "            'High_W': shapiro_high[0],\n",
    "            'High_p': shapiro_high[1],\n",
    "            'Normal': 'Yes' if (shapiro_low[1] >= 0.05 and shapiro_high[1] >= 0.05) else 'No'\n",
    "        }\n",
    "\n",
    "        return pd.concat([df, pd.DataFrame([new_row])], ignore_index=True)\n",
    "    except Exception as e:\n",
    "        print(f\"Error with {transformation_name}: {str(e)}\")\n",
    "        return df"
   ],
   "id": "298c8982d04a3217",
   "outputs": [],
   "execution_count": 12
  },
  {
   "metadata": {
    "ExecuteTime": {
     "end_time": "2025-05-27T11:25:29.897472Z",
     "start_time": "2025-05-27T11:25:29.893387Z"
    }
   },
   "cell_type": "code",
   "source": "results = pd.DataFrame(columns=['Transformation', 'Low_W', 'Low_p', 'High_W', 'High_p', 'Normal'])\n",
   "id": "7512180cffcf1229",
   "outputs": [],
   "execution_count": 13
  },
  {
   "metadata": {},
   "cell_type": "markdown",
   "source": "1. log transformation",
   "id": "6e8f9654803edc78"
  },
  {
   "metadata": {
    "ExecuteTime": {
     "end_time": "2025-05-27T11:25:29.957223Z",
     "start_time": "2025-05-27T11:25:29.950870Z"
    }
   },
   "cell_type": "code",
   "source": [
    "log_low = np.log(low_stress + 1)\n",
    "log_high = np.log(high_stress + 1)\n",
    "results = add_shapiro_results(results, 'Log(x+1)', stats.shapiro(log_low), stats.shapiro(log_high))"
   ],
   "id": "65806e956b17f127",
   "outputs": [
    {
     "name": "stderr",
     "output_type": "stream",
     "text": [
      "/tmp/ipykernel_162925/2896545452.py:22: FutureWarning: The behavior of DataFrame concatenation with empty or all-NA entries is deprecated. In a future version, this will no longer exclude empty or all-NA columns when determining the result dtypes. To retain the old behavior, exclude the relevant entries before the concat operation.\n",
      "  return pd.concat([df, pd.DataFrame([new_row])], ignore_index=True)\n"
     ]
    }
   ],
   "execution_count": 14
  },
  {
   "metadata": {},
   "cell_type": "markdown",
   "source": "2. square root transformation",
   "id": "b246ea9ac929fd9c"
  },
  {
   "metadata": {
    "ExecuteTime": {
     "end_time": "2025-05-27T11:25:30.016899Z",
     "start_time": "2025-05-27T11:25:30.011930Z"
    }
   },
   "cell_type": "code",
   "source": [
    "sqrt_low = np.sqrt(low_stress)\n",
    "sqrt_high = np.sqrt(high_stress)\n",
    "results = add_shapiro_results(results, 'Square root', stats.shapiro(sqrt_low), stats.shapiro(sqrt_high))"
   ],
   "id": "cf73baf270afe8ab",
   "outputs": [],
   "execution_count": 15
  },
  {
   "metadata": {},
   "cell_type": "markdown",
   "source": "3. reciprocal transformation",
   "id": "3626d253bebbc484"
  },
  {
   "metadata": {
    "ExecuteTime": {
     "end_time": "2025-05-27T11:25:30.073845Z",
     "start_time": "2025-05-27T11:25:30.069350Z"
    }
   },
   "cell_type": "code",
   "source": [
    "recip_low = 1 / (low_stress + 0.01)  # Adding 0.01 to avoid division by zero\n",
    "recip_high = 1 / (high_stress + 0.01)\n",
    "results = add_shapiro_results(results, 'Reciprocal', stats.shapiro(recip_low), stats.shapiro(recip_high))"
   ],
   "id": "6f42b0ddeb6192ed",
   "outputs": [],
   "execution_count": 16
  },
  {
   "metadata": {
    "ExecuteTime": {
     "end_time": "2025-05-27T11:25:30.134262Z",
     "start_time": "2025-05-27T11:25:30.127181Z"
    }
   },
   "cell_type": "code",
   "source": "results",
   "id": "3253dc6a0903ee6c",
   "outputs": [
    {
     "data": {
      "text/plain": [
       "  Transformation     Low_W         Low_p    High_W        High_p Normal\n",
       "0       Log(x+1)  0.925862  5.450339e-11  0.973857  1.164804e-12     No\n",
       "1    Square root  0.970239  8.072240e-06  0.990946  5.824928e-06     No\n",
       "2     Reciprocal  0.222617  2.629157e-33  0.078516  7.558519e-57     No"
      ],
      "text/html": [
       "<div>\n",
       "<style scoped>\n",
       "    .dataframe tbody tr th:only-of-type {\n",
       "        vertical-align: middle;\n",
       "    }\n",
       "\n",
       "    .dataframe tbody tr th {\n",
       "        vertical-align: top;\n",
       "    }\n",
       "\n",
       "    .dataframe thead th {\n",
       "        text-align: right;\n",
       "    }\n",
       "</style>\n",
       "<table border=\"1\" class=\"dataframe\">\n",
       "  <thead>\n",
       "    <tr style=\"text-align: right;\">\n",
       "      <th></th>\n",
       "      <th>Transformation</th>\n",
       "      <th>Low_W</th>\n",
       "      <th>Low_p</th>\n",
       "      <th>High_W</th>\n",
       "      <th>High_p</th>\n",
       "      <th>Normal</th>\n",
       "    </tr>\n",
       "  </thead>\n",
       "  <tbody>\n",
       "    <tr>\n",
       "      <th>0</th>\n",
       "      <td>Log(x+1)</td>\n",
       "      <td>0.925862</td>\n",
       "      <td>5.450339e-11</td>\n",
       "      <td>0.973857</td>\n",
       "      <td>1.164804e-12</td>\n",
       "      <td>No</td>\n",
       "    </tr>\n",
       "    <tr>\n",
       "      <th>1</th>\n",
       "      <td>Square root</td>\n",
       "      <td>0.970239</td>\n",
       "      <td>8.072240e-06</td>\n",
       "      <td>0.990946</td>\n",
       "      <td>5.824928e-06</td>\n",
       "      <td>No</td>\n",
       "    </tr>\n",
       "    <tr>\n",
       "      <th>2</th>\n",
       "      <td>Reciprocal</td>\n",
       "      <td>0.222617</td>\n",
       "      <td>2.629157e-33</td>\n",
       "      <td>0.078516</td>\n",
       "      <td>7.558519e-57</td>\n",
       "      <td>No</td>\n",
       "    </tr>\n",
       "  </tbody>\n",
       "</table>\n",
       "</div>"
      ]
     },
     "execution_count": 17,
     "metadata": {},
     "output_type": "execute_result"
    }
   ],
   "execution_count": 17
  },
  {
   "metadata": {},
   "cell_type": "markdown",
   "source": "not complex transformations don't help us to make the data normally distributed, let's apply more advanced transformations",
   "id": "84f143acffb3561"
  },
  {
   "metadata": {},
   "cell_type": "markdown",
   "source": "Box-Cox transformation",
   "id": "8ea19c1ecb95b7f2"
  },
  {
   "metadata": {
    "ExecuteTime": {
     "end_time": "2025-05-27T11:25:30.194166Z",
     "start_time": "2025-05-27T11:25:30.190946Z"
    }
   },
   "cell_type": "code",
   "source": [
    "if all(low_stress > 0) and all(high_stress > 0):\n",
    "    boxcox_low, boxcox_low_lambda = stats.boxcox(low_stress)\n",
    "    boxcox_high, boxcox_high_lambda = stats.boxcox(high_stress)\n",
    "    results = add_shapiro_results(results, 'Box-Cox', stats.shapiro(boxcox_low), stats.shapiro(boxcox_high))\n",
    "else:\n",
    "    print(\"Box-Cox transformation requires all data to be positive.\")"
   ],
   "id": "fcbe662eab62fe58",
   "outputs": [
    {
     "name": "stdout",
     "output_type": "stream",
     "text": [
      "Box-Cox transformation requires all data to be positive.\n"
     ]
    }
   ],
   "execution_count": 18
  },
  {
   "metadata": {
    "ExecuteTime": {
     "end_time": "2025-05-27T11:25:30.345477Z",
     "start_time": "2025-05-27T11:25:30.248127Z"
    }
   },
   "cell_type": "code",
   "source": "from sklearn.preprocessing import PowerTransformer",
   "id": "b7af2c9b5db1fa5d",
   "outputs": [],
   "execution_count": 19
  },
  {
   "metadata": {
    "ExecuteTime": {
     "end_time": "2025-05-27T11:25:30.378787Z",
     "start_time": "2025-05-27T11:25:30.369846Z"
    }
   },
   "cell_type": "code",
   "source": [
    "pt = PowerTransformer(method='yeo-johnson', standardize=False)\n",
    "yj_low = pt.fit_transform(low_stress.values.reshape(-1, 1)).flatten()\n",
    "yj_high = pt.fit_transform(high_stress.values.reshape(-1, 1)).flatten()\n",
    "results = add_shapiro_results(results, 'Yeo-Johnson', yj_low, yj_high)"
   ],
   "id": "19bbb640cf18da0b",
   "outputs": [],
   "execution_count": 20
  },
  {
   "metadata": {},
   "cell_type": "markdown",
   "source": "Arcsinh transformation (works like log but handles zero/negative)",
   "id": "ab10cd5134f8c2b3"
  },
  {
   "metadata": {
    "ExecuteTime": {
     "end_time": "2025-05-27T11:25:30.438736Z",
     "start_time": "2025-05-27T11:25:30.434232Z"
    }
   },
   "cell_type": "code",
   "source": [
    "asinh_low = np.arcsinh(low_stress)\n",
    "asinh_high = np.arcsinh(high_stress)\n",
    "results = add_shapiro_results(results, 'Arcsinh', asinh_low, asinh_high)"
   ],
   "id": "4bbc4f663f558e42",
   "outputs": [],
   "execution_count": 21
  },
  {
   "metadata": {},
   "cell_type": "markdown",
   "source": "Tukey's ladder of powers (try different powers)",
   "id": "3964e24af010669a"
  },
  {
   "metadata": {
    "ExecuteTime": {
     "end_time": "2025-05-27T11:25:30.512512Z",
     "start_time": "2025-05-27T11:25:30.498750Z"
    }
   },
   "cell_type": "code",
   "source": [
    "for power in [-2, -1, -0.5, 0.5, 2, 3]:\n",
    "    name = f\"Power ({power})\"\n",
    "    if power == 0:  # Special case for log\n",
    "        tukey_low = np.log(low_stress + 1)\n",
    "        tukey_high = np.log(high_stress + 1)\n",
    "    elif power < 0:  # Negative powers\n",
    "        tukey_low = 1 / (low_stress + 1) ** abs(power)\n",
    "        tukey_high = 1 / (high_stress + 1) ** abs(power)\n",
    "    else:\n",
    "        tukey_low = low_stress ** power\n",
    "        tukey_high = high_stress ** power\n",
    "    results = add_shapiro_results(results, name, tukey_low, tukey_high)"
   ],
   "id": "8140253aeaa7d577",
   "outputs": [],
   "execution_count": 22
  },
  {
   "metadata": {
    "ExecuteTime": {
     "end_time": "2025-05-27T11:25:30.572457Z",
     "start_time": "2025-05-27T11:25:30.562452Z"
    }
   },
   "cell_type": "code",
   "source": [
    "sorted_results = results.sort_values('High_p', ascending=False).reset_index(drop=True)\n",
    "sorted_results"
   ],
   "id": "3d1d09f1b21de9ac",
   "outputs": [
    {
     "data": {
      "text/plain": [
       "   Transformation     Low_W         Low_p    High_W        High_p Normal\n",
       "0     Square root  0.970239  8.072240e-06  0.990946  5.824928e-06     No\n",
       "1     Power (0.5)  0.970239  8.072240e-06  0.990946  5.824928e-06     No\n",
       "2     Yeo-Johnson  0.995185  4.844388e-01  0.985047  9.110877e-09     No\n",
       "3        Log(x+1)  0.925862  5.450339e-11  0.973857  1.164804e-12     No\n",
       "4         Arcsinh  0.897680  2.801472e-13  0.961288  6.942920e-16     No\n",
       "5    Power (-0.5)  0.814574  3.824183e-18  0.923279  1.791504e-22     No\n",
       "6      Power (-1)  0.666286  9.005257e-24  0.841580  8.310778e-31     No\n",
       "7       Power (2)  0.912727  4.054373e-12  0.796418  5.160473e-34     No\n",
       "8      Power (-2)  0.392258  2.347248e-30  0.649429  1.552241e-41     No\n",
       "9       Power (3)  0.784494  1.661286e-19  0.636283  4.499534e-42     No\n",
       "10     Reciprocal  0.222617  2.629157e-33  0.078516  7.558519e-57     No"
      ],
      "text/html": [
       "<div>\n",
       "<style scoped>\n",
       "    .dataframe tbody tr th:only-of-type {\n",
       "        vertical-align: middle;\n",
       "    }\n",
       "\n",
       "    .dataframe tbody tr th {\n",
       "        vertical-align: top;\n",
       "    }\n",
       "\n",
       "    .dataframe thead th {\n",
       "        text-align: right;\n",
       "    }\n",
       "</style>\n",
       "<table border=\"1\" class=\"dataframe\">\n",
       "  <thead>\n",
       "    <tr style=\"text-align: right;\">\n",
       "      <th></th>\n",
       "      <th>Transformation</th>\n",
       "      <th>Low_W</th>\n",
       "      <th>Low_p</th>\n",
       "      <th>High_W</th>\n",
       "      <th>High_p</th>\n",
       "      <th>Normal</th>\n",
       "    </tr>\n",
       "  </thead>\n",
       "  <tbody>\n",
       "    <tr>\n",
       "      <th>0</th>\n",
       "      <td>Square root</td>\n",
       "      <td>0.970239</td>\n",
       "      <td>8.072240e-06</td>\n",
       "      <td>0.990946</td>\n",
       "      <td>5.824928e-06</td>\n",
       "      <td>No</td>\n",
       "    </tr>\n",
       "    <tr>\n",
       "      <th>1</th>\n",
       "      <td>Power (0.5)</td>\n",
       "      <td>0.970239</td>\n",
       "      <td>8.072240e-06</td>\n",
       "      <td>0.990946</td>\n",
       "      <td>5.824928e-06</td>\n",
       "      <td>No</td>\n",
       "    </tr>\n",
       "    <tr>\n",
       "      <th>2</th>\n",
       "      <td>Yeo-Johnson</td>\n",
       "      <td>0.995185</td>\n",
       "      <td>4.844388e-01</td>\n",
       "      <td>0.985047</td>\n",
       "      <td>9.110877e-09</td>\n",
       "      <td>No</td>\n",
       "    </tr>\n",
       "    <tr>\n",
       "      <th>3</th>\n",
       "      <td>Log(x+1)</td>\n",
       "      <td>0.925862</td>\n",
       "      <td>5.450339e-11</td>\n",
       "      <td>0.973857</td>\n",
       "      <td>1.164804e-12</td>\n",
       "      <td>No</td>\n",
       "    </tr>\n",
       "    <tr>\n",
       "      <th>4</th>\n",
       "      <td>Arcsinh</td>\n",
       "      <td>0.897680</td>\n",
       "      <td>2.801472e-13</td>\n",
       "      <td>0.961288</td>\n",
       "      <td>6.942920e-16</td>\n",
       "      <td>No</td>\n",
       "    </tr>\n",
       "    <tr>\n",
       "      <th>5</th>\n",
       "      <td>Power (-0.5)</td>\n",
       "      <td>0.814574</td>\n",
       "      <td>3.824183e-18</td>\n",
       "      <td>0.923279</td>\n",
       "      <td>1.791504e-22</td>\n",
       "      <td>No</td>\n",
       "    </tr>\n",
       "    <tr>\n",
       "      <th>6</th>\n",
       "      <td>Power (-1)</td>\n",
       "      <td>0.666286</td>\n",
       "      <td>9.005257e-24</td>\n",
       "      <td>0.841580</td>\n",
       "      <td>8.310778e-31</td>\n",
       "      <td>No</td>\n",
       "    </tr>\n",
       "    <tr>\n",
       "      <th>7</th>\n",
       "      <td>Power (2)</td>\n",
       "      <td>0.912727</td>\n",
       "      <td>4.054373e-12</td>\n",
       "      <td>0.796418</td>\n",
       "      <td>5.160473e-34</td>\n",
       "      <td>No</td>\n",
       "    </tr>\n",
       "    <tr>\n",
       "      <th>8</th>\n",
       "      <td>Power (-2)</td>\n",
       "      <td>0.392258</td>\n",
       "      <td>2.347248e-30</td>\n",
       "      <td>0.649429</td>\n",
       "      <td>1.552241e-41</td>\n",
       "      <td>No</td>\n",
       "    </tr>\n",
       "    <tr>\n",
       "      <th>9</th>\n",
       "      <td>Power (3)</td>\n",
       "      <td>0.784494</td>\n",
       "      <td>1.661286e-19</td>\n",
       "      <td>0.636283</td>\n",
       "      <td>4.499534e-42</td>\n",
       "      <td>No</td>\n",
       "    </tr>\n",
       "    <tr>\n",
       "      <th>10</th>\n",
       "      <td>Reciprocal</td>\n",
       "      <td>0.222617</td>\n",
       "      <td>2.629157e-33</td>\n",
       "      <td>0.078516</td>\n",
       "      <td>7.558519e-57</td>\n",
       "      <td>No</td>\n",
       "    </tr>\n",
       "  </tbody>\n",
       "</table>\n",
       "</div>"
      ]
     },
     "execution_count": 23,
     "metadata": {},
     "output_type": "execute_result"
    }
   ],
   "execution_count": 23
  },
  {
   "metadata": {},
   "cell_type": "markdown",
   "source": "so, transformations didn't work out well, let's use non-parametric test",
   "id": "a3302030efd19978"
  },
  {
   "metadata": {},
   "cell_type": "markdown",
   "source": [
    "### 4. Mann-Whitney U Test\n",
    "Since our transformations didn't achieve normality, we'll use the non-parametric Mann-Whitney U test, which doesn't require normally distributed data. This test compares the distributions of two independent samples.\n"
   ],
   "id": "b507703148c942a9"
  },
  {
   "metadata": {
    "ExecuteTime": {
     "end_time": "2025-05-27T11:25:30.655660Z",
     "start_time": "2025-05-27T11:25:30.647846Z"
    }
   },
   "cell_type": "code",
   "source": [
    "# Perform Mann-Whitney U test on original data\n",
    "mannwhitney_result = stats.mannwhitneyu(low_stress, high_stress, alternative='two-sided')\n",
    "\n",
    "print(f\"Mann-Whitney U Test Results (Original Data):\")\n",
    "print(f\"U statistic: {mannwhitney_result.statistic:.4f}\")\n",
    "print(f\"p-value: {mannwhitney_result.pvalue:.4f}\")\n",
    "print(f\"Significant difference: {'Yes' if mannwhitney_result.pvalue < 0.01 else 'No'}\")\n"
   ],
   "id": "c21e10fdea5c6fed",
   "outputs": [
    {
     "name": "stdout",
     "output_type": "stream",
     "text": [
      "Mann-Whitney U Test Results (Original Data):\n",
      "U statistic: 209805.0000\n",
      "p-value: 0.0000\n",
      "Significant difference: Yes\n"
     ]
    }
   ],
   "execution_count": 24
  },
  {
   "metadata": {},
   "cell_type": "markdown",
   "source": [
    "***Interpretation of Mann-Whitney U Test***\n",
    "The Mann-Whitney U test determines if there's a significant difference between the stress levels of the two groups (low exercise vs. high exercise).\n",
    "\n",
    "- **H₀**: The distributions of stress levels are the same in both groups\n",
    "- **H₁**: The distributions of stress levels are different between the groups\n"
   ],
   "id": "94faf4498b35aa08"
  },
  {
   "metadata": {
    "ExecuteTime": {
     "end_time": "2025-05-27T11:25:30.728180Z",
     "start_time": "2025-05-27T11:25:30.720230Z"
    }
   },
   "cell_type": "code",
   "source": [
    "# Let's also calculate and display some descriptive statistics to help interpret the results\n",
    "descriptive_stats = pd.DataFrame({\n",
    "    'Group': ['Low Exercise', 'High Exercise'],\n",
    "    'Count': [len(low_stress), len(high_stress)],\n",
    "    'Mean': [low_stress.mean(), high_stress.mean()],\n",
    "    'Median': [low_stress.median(), high_stress.median()],\n",
    "    'Std Dev': [low_stress.std(), high_stress.std()],\n",
    "    'Min': [low_stress.min(), high_stress.min()],\n",
    "    'Max': [low_stress.max(), high_stress.max()]\n",
    "})\n",
    "\n",
    "print(\"Descriptive Statistics:\")\n",
    "print(descriptive_stats)\n"
   ],
   "id": "815f4285336d2727",
   "outputs": [
    {
     "name": "stdout",
     "output_type": "stream",
     "text": [
      "Descriptive Statistics:\n",
      "           Group  Count      Mean  Median   Std Dev  Min   Max\n",
      "0   Low Exercise    297  5.581818     5.3  2.377216  0.1  12.4\n",
      "1  High Exercise   1029  3.960933     3.6  2.603957  0.0  13.0\n"
     ]
    }
   ],
   "execution_count": 25
  },
  {
   "metadata": {
    "ExecuteTime": {
     "end_time": "2025-05-27T11:25:30.900944Z",
     "start_time": "2025-05-27T11:25:30.787979Z"
    }
   },
   "cell_type": "code",
   "source": [
    "# Create a box plot to visualize the difference\n",
    "plt.figure(figsize=(10, 6))\n",
    "box_data = [low_stress, high_stress]\n",
    "box_labels = ['Low Exercise', 'High Exercise']\n",
    "\n",
    "plt.boxplot(box_data, tick_labels=box_labels)\n",
    "plt.ylabel('Stress Level')\n",
    "plt.title('Comparison of Stress Levels by Exercise Group')\n",
    "\n",
    "plt.grid(True, alpha=0.3)\n",
    "plt.show()\n"
   ],
   "id": "e7f92a90601024d1",
   "outputs": [
    {
     "data": {
      "text/plain": [
       "<Figure size 1000x600 with 1 Axes>"
      ],
      "image/png": "[encoded data removed]"
     },
     "metadata": {},
     "output_type": "display_data"
    }
   ],
   "execution_count": 26
  },
  {
   "metadata": {},
   "cell_type": "markdown",
   "source": "At the end we can that there is significant difference between the two groups' shape of distributions, and low-stress students tend to have higher physical activity hours per day compared to high-stress students (from the box plot). The Mann-Whitney U test confirms this observation with a p-value < 0.01.",
   "id": "26e7c71ec52bb63c"
  },
  {
   "metadata": {},
   "cell_type": "markdown",
   "source": [
    "### 5. Bootstrap Method\n",
    "Bootstrapping is a resampling technique that allows us to estimate the sampling distribution of a statistic by repeatedly sampling with replacement from our data. We'll use bootstrapping to:\n",
    "1. Estimate the difference in means and medians between the two groups\n",
    "2. Calculate confidence intervals for these differences\n",
    "3. Determine if there's a significant difference (if the confidence interval doesn't contain 0)\n"
   ],
   "id": "5554861d2feaf21"
  },
  {
   "metadata": {
    "ExecuteTime": {
     "end_time": "2025-05-27T11:25:30.982448Z",
     "start_time": "2025-05-27T11:25:30.936680Z"
    }
   },
   "cell_type": "code",
   "source": [
    "import numpy as np\n",
    "import matplotlib.pyplot as plt\n",
    "from scipy import stats\n",
    "import pandas as pd\n",
    "import seaborn as sns\n",
    "from tqdm import tqdm\n",
    "\n",
    "# Set random seed for reproducibility\n",
    "np.random.seed(42)\n",
    "\n",
    "# Number of bootstrap samples\n",
    "n_bootstraps = 5000\n",
    "\n",
    "# Arrays to store bootstrap statistics\n",
    "bootstrap_diff_means = np.zeros(n_bootstraps)\n",
    "bootstrap_diff_medians = np.zeros(n_bootstraps)"
   ],
   "id": "bb424afe6f0220e6",
   "outputs": [],
   "execution_count": 27
  },
  {
   "metadata": {
    "ExecuteTime": {
     "end_time": "2025-05-27T11:25:31.817112Z",
     "start_time": "2025-05-27T11:25:31.023892Z"
    }
   },
   "cell_type": "code",
   "source": [
    "# Perform bootstrapping\n",
    "for i in tqdm(range(n_bootstraps)):\n",
    "    # Sample with replacement from both groups\n",
    "    boot_low = np.random.choice(low_stress, size=len(low_stress), replace=True)\n",
    "    boot_high = np.random.choice(high_stress, size=len(high_stress), replace=True)\n",
    "\n",
    "    # Calculate statistics for this bootstrap sample\n",
    "    bootstrap_diff_means[i] = np.mean(boot_low) - np.mean(boot_high)\n",
    "    bootstrap_diff_medians[i] = np.median(boot_low) - np.median(boot_high)"
   ],
   "id": "2aa2dd7fb40a1eac",
   "outputs": [
    {
     "name": "stderr",
     "output_type": "stream",
     "text": [
      "100%|██████████| 5000/5000 [00:00<00:00, 6362.60it/s]\n"
     ]
    }
   ],
   "execution_count": 28
  },
  {
   "metadata": {
    "ExecuteTime": {
     "end_time": "2025-05-27T11:25:31.863638Z",
     "start_time": "2025-05-27T11:25:31.857627Z"
    }
   },
   "cell_type": "code",
   "source": [
    "# Calculate confidence intervals (90%)\n",
    "ci_mean_90 = np.percentile(bootstrap_diff_means, [5, 90])\n",
    "ci_median_90 = np.percentile(bootstrap_diff_medians, [5, 90])\n",
    "\n",
    "\n",
    "# Calculate confidence intervals (95%)\n",
    "ci_mean_95 = np.percentile(bootstrap_diff_means, [2.5, 97.5])\n",
    "ci_median_95 = np.percentile(bootstrap_diff_medians, [2.5, 97.5])\n",
    "\n",
    "# Calculate confidence intervals (99%)\n",
    "ci_mean_99 = np.percentile(bootstrap_diff_means, [0.5, 99.5])\n",
    "ci_median_99 = np.percentile(bootstrap_diff_medians, [0.5, 99.5])"
   ],
   "id": "1937b9c232c054e2",
   "outputs": [],
   "execution_count": 29
  },
  {
   "metadata": {
    "ExecuteTime": {
     "end_time": "2025-05-27T11:25:31.935488Z",
     "start_time": "2025-05-27T11:25:31.929033Z"
    }
   },
   "cell_type": "code",
   "source": [
    "print(\"Bootstrap Results (5000 resamples):\")\n",
    "print(\"\\nDifference in Means (Low - High):\")\n",
    "print(f\"  Observed difference: {np.mean(low_stress) - np.mean(high_stress):.4f}\")\n",
    "print(f\"  90% CI: [{ci_mean_90[0]:.4f}, {ci_mean_90[1]:.4f}]\")\n",
    "print(f\"  95% CI: [{ci_mean_95[0]:.4f}, {ci_mean_95[1]:.4f}]\")\n",
    "print(f\"  99% CI: [{ci_mean_99[0]:.4f}, {ci_mean_99[1]:.4f}]\")\n",
    "print(f\"  Significant at 90%: {'Yes' if (ci_mean_90[0] > 0 or ci_mean_90[1] < 0) else 'No'}\")\n",
    "print(f\"  Significant at 95%: {'Yes' if (ci_mean_95[0] > 0 or ci_mean_95[1] < 0) else 'No'}\")\n",
    "print(f\"  Significant at 99%: {'Yes' if (ci_mean_99[0] > 0 or ci_mean_99[1] < 0) else 'No'}\")\n",
    "\n",
    "print(\"\\nDifference in Medians (Low - High):\")\n",
    "print(f\"  Observed difference: {np.median(low_stress) - np.median(high_stress):.4f}\")\n",
    "print(f\"  90% CI: [{ci_median_90[0]:.4f}, {ci_median_90[1]:.4f}]\")\n",
    "print(f\"  95% CI: [{ci_median_95[0]:.4f}, {ci_median_95[1]:.4f}]\")\n",
    "print(f\"  99% CI: [{ci_median_99[0]:.4f}, {ci_median_99[1]:.4f}]\")\n",
    "print(f\"  Significant at 90%: {'Yes' if (ci_median_90[0] > 0 or ci_median_90[1] < 0) else 'No'}\")\n",
    "print(f\"  Significant at 95%: {'Yes' if (ci_median_95[0] > 0 or ci_median_95[1] < 0) else 'No'}\")\n",
    "print(f\"  Significant at 99%: {'Yes' if (ci_median_99[0] > 0 or ci_median_99[1] < 0) else 'No'}\")"
   ],
   "id": "198aaa63e7e4ee02",
   "outputs": [
    {
     "name": "stdout",
     "output_type": "stream",
     "text": [
      "Bootstrap Results (5000 resamples):\n",
      "\n",
      "Difference in Means (Low - High):\n",
      "  Observed difference: 1.6209\n",
      "  90% CI: [1.3628, 1.8227]\n",
      "  95% CI: [1.3114, 1.9286]\n",
      "  99% CI: [1.2284, 2.0235]\n",
      "  Significant at 90%: Yes\n",
      "  Significant at 95%: Yes\n",
      "  Significant at 99%: Yes\n",
      "\n",
      "Difference in Medians (Low - High):\n",
      "  Observed difference: 1.7000\n",
      "  90% CI: [1.4000, 2.1000]\n",
      "  95% CI: [1.4000, 2.3000]\n",
      "  99% CI: [1.3000, 2.5000]\n",
      "  Significant at 90%: Yes\n",
      "  Significant at 95%: Yes\n",
      "  Significant at 99%: Yes\n"
     ]
    }
   ],
   "execution_count": 30
  },
  {
   "metadata": {
    "ExecuteTime": {
     "end_time": "2025-05-27T11:25:32.629314Z",
     "start_time": "2025-05-27T11:25:32.008765Z"
    }
   },
   "cell_type": "code",
   "source": [
    "# Visualize bootstrap distributions\n",
    "plt.figure(figsize=(14, 6))\n",
    "\n",
    "# Plot bootstrap distribution of difference in means\n",
    "plt.subplot(1, 2, 1)\n",
    "sns.histplot(bootstrap_diff_means, kde=True)\n",
    "plt.axvline(x=0, color='red', linestyle='--')\n",
    "plt.axvline(x=ci_mean_90[0], color='orange', linestyle='-', label='95% CI')\n",
    "plt.axvline(x=ci_mean_90[1], color='orange', linestyle='-')\n",
    "plt.axvline(x=ci_mean_95[0], color='blue', linestyle='-', label='95% CI')\n",
    "plt.axvline(x=ci_mean_95[1], color='blue', linestyle='-')\n",
    "plt.axvline(x=ci_mean_99[0], color='green', linestyle='-', label='99% CI')\n",
    "plt.axvline(x=ci_mean_99[1], color='green', linestyle='-')\n",
    "plt.title('Bootstrap Distribution: Difference in Means')\n",
    "plt.xlabel('Difference in Physical Activity (hours/day)')\n",
    "plt.legend()\n",
    "\n",
    "# Plot bootstrap distribution of difference in medians\n",
    "plt.subplot(1, 2, 2)\n",
    "sns.histplot(bootstrap_diff_medians, kde=True)\n",
    "plt.axvline(x=0, color='red', linestyle='--')\n",
    "plt.axvline(x=ci_median_90[0], color='orange', linestyle='-', label='95% CI')\n",
    "plt.axvline(x=ci_median_90[1], color='orange', linestyle='-')\n",
    "plt.axvline(x=ci_median_95[0], color='blue', linestyle='-', label='95% CI')\n",
    "plt.axvline(x=ci_median_95[1], color='blue', linestyle='-')\n",
    "plt.axvline(x=ci_median_99[0], color='green', linestyle='-', label='99% CI')\n",
    "plt.axvline(x=ci_median_99[1], color='green', linestyle='-')\n",
    "plt.title('Bootstrap Distribution: Difference in Medians')\n",
    "plt.xlabel('Difference in Physical Activity (hours/day)')\n",
    "plt.legend()\n",
    "\n",
    "plt.tight_layout()\n",
    "plt.show()\n"
   ],
   "id": "6d2d0b016067d553",
   "outputs": [
    {
     "data": {
      "text/plain": [
       "<Figure size 1400x600 with 2 Axes>"
      ],
      "image/png": "[encoded data removed]"
     },
     "metadata": {},
     "output_type": "display_data"
    }
   ],
   "execution_count": 31
  },
  {
   "metadata": {},
   "cell_type": "markdown",
   "source": [
    "***Bootstrap Analysis Interpretation***\n",
    "\n",
    "The bootstrap analysis provides a robust estimate of the difference in physical activity hours between students with low stress and those with high stress.\n",
    "\n",
    "Key findings:\n",
    "Since the confidence intervals for both means and medians do not contain zero, we can conclude that there is a significant difference in physical activity hours between the two groups. This aligns with our earlier findings from the Mann-Whitney U test.\n",
    "\n"
   ],
   "id": "4797766b05185b46"
  },
  {
   "metadata": {},
   "cell_type": "markdown",
   "source": [
    "### 6. CLT approach to test the hypothesis\n",
    "\n",
    "Let's test the hypothesis:\n",
    "- Null Hypothesis (H0): There is no difference in physical activity hours between people with low and high stress levels.\n",
    "- Alternative Hypothesis (H1): People with low stress levels spend more time exercising than people with high stress levels.\n"
   ],
   "id": "ad8b28e9af259784"
  },
  {
   "metadata": {
    "ExecuteTime": {
     "end_time": "2025-05-27T11:25:32.674215Z",
     "start_time": "2025-05-27T11:25:32.669769Z"
    }
   },
   "cell_type": "code",
   "source": [
    "# Sample sizes\n",
    "n_low = len(low_stress)\n",
    "n_high = len(high_stress)\n",
    "\n",
    "# Sample means\n",
    "mean_low = low_stress.mean()\n",
    "mean_high = high_stress.mean()\n",
    "\n",
    "# Sample standard deviations\n",
    "std_low = low_stress.std()\n",
    "std_high = high_stress.std()\n",
    "\n",
    "print(f\"Low stress group: n={n_low}, mean={mean_low:.2f}, std={std_low:.2f}\")\n",
    "print(f\"High stress group: n={n_high}, mean={mean_high:.2f}, std={std_high:.2f}\")\n",
    "print(f\"Difference in means (Low - High): {mean_low - mean_high:.2f}\")\n"
   ],
   "id": "69ab958eff3e3846",
   "outputs": [
    {
     "name": "stdout",
     "output_type": "stream",
     "text": [
      "Low stress group: n=297, mean=5.58, std=2.38\n",
      "High stress group: n=1029, mean=3.96, std=2.60\n",
      "Difference in means (Low - High): 1.62\n"
     ]
    }
   ],
   "execution_count": 32
  },
  {
   "metadata": {},
   "cell_type": "markdown",
   "source": "let's comapare the variances",
   "id": "d2d856bdc3f1c503"
  },
  {
   "metadata": {
    "ExecuteTime": {
     "end_time": "2025-05-27T11:25:32.886123Z",
     "start_time": "2025-05-27T11:25:32.750264Z"
    }
   },
   "cell_type": "code",
   "source": "import pingouin as pg",
   "id": "1a13e3e10f4c54ac",
   "outputs": [],
   "execution_count": 33
  },
  {
   "metadata": {
    "ExecuteTime": {
     "end_time": "2025-05-27T11:25:32.928946Z",
     "start_time": "2025-05-27T11:25:32.921058Z"
    }
   },
   "cell_type": "code",
   "source": [
    "result = pg.homoscedasticity([np.array(low_stress), np.array(high_stress)], method='levene')\n",
    "print(result)"
   ],
   "id": "2bd684946f1f3765",
   "outputs": [
    {
     "name": "stdout",
     "output_type": "stream",
     "text": [
      "               W      pval  equal_var\n",
      "levene  3.568527  0.059103       True\n"
     ]
    }
   ],
   "execution_count": 34
  },
  {
   "metadata": {
    "ExecuteTime": {
     "end_time": "2025-05-27T11:25:33.135219Z",
     "start_time": "2025-05-27T11:25:33.131021Z"
    }
   },
   "cell_type": "code",
   "source": "t_stat, p_value = stats.ttest_ind(low_stress, high_stress, equal_var=True)",
   "id": "f3eac07821b013ef",
   "outputs": [],
   "execution_count": 36
  },
  {
   "metadata": {
    "ExecuteTime": {
     "end_time": "2025-05-27T11:26:59.300644Z",
     "start_time": "2025-05-27T11:26:59.297213Z"
    }
   },
   "cell_type": "code",
   "source": "t_stat, p_value",
   "id": "23546a9f0f0d052b",
   "outputs": [
    {
     "data": {
      "text/plain": [
       "(np.float64(9.631043537221803), np.float64(2.8883245376474363e-21))"
      ]
     },
     "execution_count": 37,
     "metadata": {},
     "output_type": "execute_result"
    }
   ],
   "execution_count": 37
  },
  {
   "metadata": {},
   "cell_type": "markdown",
   "source": [
    "Since p-value (2.8883245376474363e-21) < alpha on all reasonable confidence levels, we reject the null hypothesis.\n",
    "Conclusion: People with low stress levels spend significantly more time exercising than people with high stress levels."
   ],
   "id": "e192094ae3437479"
  },
  {
   "metadata": {},
   "cell_type": "markdown",
   "source": [
    "### Conclusion\n",
    "In this analysis, we explored the relationship between stress levels and physical activity hours among students. Bootstrap, Mann Whitney U and T-test (with CLT) revealed that there is a significant difference in physical activity hours between low-stress and high-stress students. Low-stress students tend to engage in more physical activity compared to their high-stress counterparts. Comparing the medians and means suggest that promoting physical activity may be beneficial for stress management among students since people who exercise regularly have lower stress levels compared to those who don't.\n"
   ],
   "id": "b274a063186de8ed"
  }
 ],
 "metadata": {
  "kernelspec": {
   "display_name": "Python 3",
   "language": "python",
   "name": "python3"
  },
  "language_info": {
   "codemirror_mode": {
    "name": "ipython",
    "version": 2
   },
   "file_extension": ".py",
   "mimetype": "text/x-python",
   "name": "python",
   "nbconvert_exporter": "python",
   "pygments_lexer": "ipython2",
   "version": "2.7.6"
  }
 },
 "nbformat": 4,
 "nbformat_minor": 5
}
