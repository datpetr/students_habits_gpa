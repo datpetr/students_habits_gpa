{
 "cells": [
  {
   "cell_type": "code",
   "id": "initial_id",
   "metadata": {
    "collapsed": true,
    "ExecuteTime": {
     "end_time": "2025-04-26T17:46:03.521702Z",
     "start_time": "2025-04-26T17:46:03.518574Z"
    }
   },
   "source": [
    "import numpy as np\n",
    "import pandas as pd\n",
    "from scipy import stats\n",
    "import matplotlib.pyplot as plt\n",
    "import seaborn as sns"
   ],
   "outputs": [],
   "execution_count": 1
  },
  {
   "metadata": {
    "ExecuteTime": {
     "end_time": "2025-04-26T17:46:03.653294Z",
     "start_time": "2025-04-26T17:46:03.645294Z"
    }
   },
   "cell_type": "code",
   "source": "df = pd.read_csv('data/cleaned_student_lifestyle_dataset.csv')",
   "id": "235ebc4a66a5dd6f",
   "outputs": [],
   "execution_count": 2
  },
  {
   "metadata": {
    "ExecuteTime": {
     "end_time": "2025-04-26T17:46:03.703284Z",
     "start_time": "2025-04-26T17:46:03.689769Z"
    }
   },
   "cell_type": "code",
   "source": "df.head()",
   "id": "2c1f78351b7b857c",
   "outputs": [
    {
     "data": {
      "text/plain": [
       "   student_id  study_hours_per_day  extracurricular_hours_per_day  \\\n",
       "0           1                  6.9                            3.8   \n",
       "1           2                  5.3                            3.5   \n",
       "2           3                  5.1                            3.9   \n",
       "3           4                  6.5                            2.1   \n",
       "4           5                  8.1                            0.6   \n",
       "\n",
       "   sleep_hours_per_day  social_hours_per_day  physical_activity_hours_per_day  \\\n",
       "0                  8.7                   2.8                              1.8   \n",
       "1                  8.0                   4.2                              3.0   \n",
       "2                  9.2                   1.2                              4.6   \n",
       "3                  7.2                   1.7                              6.5   \n",
       "4                  6.5                   2.2                              6.6   \n",
       "\n",
       "    gpa stress_level  stress_level_numeric gpa_group  \n",
       "0  2.99     Moderate                     2     2.5-3  \n",
       "1  2.75          Low                     1     2.5-3  \n",
       "2  2.67          Low                     1     2.5-3  \n",
       "3  2.88     Moderate                     2     2.5-3  \n",
       "4  3.51         High                     3     3.5-4  "
      ],
      "text/html": [
       "<div>\n",
       "<style scoped>\n",
       "    .dataframe tbody tr th:only-of-type {\n",
       "        vertical-align: middle;\n",
       "    }\n",
       "\n",
       "    .dataframe tbody tr th {\n",
       "        vertical-align: top;\n",
       "    }\n",
       "\n",
       "    .dataframe thead th {\n",
       "        text-align: right;\n",
       "    }\n",
       "</style>\n",
       "<table border=\"1\" class=\"dataframe\">\n",
       "  <thead>\n",
       "    <tr style=\"text-align: right;\">\n",
       "      <th></th>\n",
       "      <th>student_id</th>\n",
       "      <th>study_hours_per_day</th>\n",
       "      <th>extracurricular_hours_per_day</th>\n",
       "      <th>sleep_hours_per_day</th>\n",
       "      <th>social_hours_per_day</th>\n",
       "      <th>physical_activity_hours_per_day</th>\n",
       "      <th>gpa</th>\n",
       "      <th>stress_level</th>\n",
       "      <th>stress_level_numeric</th>\n",
       "      <th>gpa_group</th>\n",
       "    </tr>\n",
       "  </thead>\n",
       "  <tbody>\n",
       "    <tr>\n",
       "      <th>0</th>\n",
       "      <td>1</td>\n",
       "      <td>6.9</td>\n",
       "      <td>3.8</td>\n",
       "      <td>8.7</td>\n",
       "      <td>2.8</td>\n",
       "      <td>1.8</td>\n",
       "      <td>2.99</td>\n",
       "      <td>Moderate</td>\n",
       "      <td>2</td>\n",
       "      <td>2.5-3</td>\n",
       "    </tr>\n",
       "    <tr>\n",
       "      <th>1</th>\n",
       "      <td>2</td>\n",
       "      <td>5.3</td>\n",
       "      <td>3.5</td>\n",
       "      <td>8.0</td>\n",
       "      <td>4.2</td>\n",
       "      <td>3.0</td>\n",
       "      <td>2.75</td>\n",
       "      <td>Low</td>\n",
       "      <td>1</td>\n",
       "      <td>2.5-3</td>\n",
       "    </tr>\n",
       "    <tr>\n",
       "      <th>2</th>\n",
       "      <td>3</td>\n",
       "      <td>5.1</td>\n",
       "      <td>3.9</td>\n",
       "      <td>9.2</td>\n",
       "      <td>1.2</td>\n",
       "      <td>4.6</td>\n",
       "      <td>2.67</td>\n",
       "      <td>Low</td>\n",
       "      <td>1</td>\n",
       "      <td>2.5-3</td>\n",
       "    </tr>\n",
       "    <tr>\n",
       "      <th>3</th>\n",
       "      <td>4</td>\n",
       "      <td>6.5</td>\n",
       "      <td>2.1</td>\n",
       "      <td>7.2</td>\n",
       "      <td>1.7</td>\n",
       "      <td>6.5</td>\n",
       "      <td>2.88</td>\n",
       "      <td>Moderate</td>\n",
       "      <td>2</td>\n",
       "      <td>2.5-3</td>\n",
       "    </tr>\n",
       "    <tr>\n",
       "      <th>4</th>\n",
       "      <td>5</td>\n",
       "      <td>8.1</td>\n",
       "      <td>0.6</td>\n",
       "      <td>6.5</td>\n",
       "      <td>2.2</td>\n",
       "      <td>6.6</td>\n",
       "      <td>3.51</td>\n",
       "      <td>High</td>\n",
       "      <td>3</td>\n",
       "      <td>3.5-4</td>\n",
       "    </tr>\n",
       "  </tbody>\n",
       "</table>\n",
       "</div>"
      ]
     },
     "execution_count": 3,
     "metadata": {},
     "output_type": "execute_result"
    }
   ],
   "execution_count": 3
  },
  {
   "metadata": {},
   "cell_type": "markdown",
   "source": "first of all let's create chart to understand which result we will likely to get",
   "id": "10e97cda8d5e202b"
  },
  {
   "metadata": {},
   "cell_type": "markdown",
   "source": "# Plot 1. MEAN COMPARISON: Sleep hours by stress level",
   "id": "854b32787060c9a4"
  },
  {
   "metadata": {
    "ExecuteTime": {
     "end_time": "2025-04-26T17:46:03.995068Z",
     "start_time": "2025-04-26T17:46:03.777353Z"
    }
   },
   "cell_type": "code",
   "source": [
    "plt.figure(figsize=(10, 6))\n",
    "sns.boxplot(x='stress_level', y='sleep_hours_per_day', data=df, palette='Set2')\n",
    "plt.title('Sleep Hours by Stress Level')\n",
    "plt.xlabel('Stress Level')\n",
    "plt.ylabel('Sleep Hours per Night')\n",
    "\n",
    "for i, level in enumerate(df['stress_level'].unique()):\n",
    "    mean = df[df['stress_level'] == level]['sleep_hours_per_day'].mean()\n",
    "    plt.text(i, df['sleep_hours_per_day'].min() + 0.2, f'Mean: {mean:.2f}h', ha='center')\n",
    "\n",
    "plt.tight_layout()\n",
    "plt.show()"
   ],
   "id": "49adf729ddcb79b2",
   "outputs": [
    {
     "name": "stderr",
     "output_type": "stream",
     "text": [
      "/tmp/ipykernel_38170/1164886793.py:2: FutureWarning: \n",
      "\n",
      "Passing `palette` without assigning `hue` is deprecated and will be removed in v0.14.0. Assign the `x` variable to `hue` and set `legend=False` for the same effect.\n",
      "\n",
      "  sns.boxplot(x='stress_level', y='sleep_hours_per_day', data=df, palette='Set2')\n"
     ]
    },
    {
     "data": {
      "text/plain": [
       "<Figure size 1000x600 with 1 Axes>"
      ],
      "image/png": "[encoded data removed]"
     },
     "metadata": {},
     "output_type": "display_data"
    }
   ],
   "execution_count": 4
  },
  {
   "metadata": {},
   "cell_type": "markdown",
   "source": "# PLOT 2: Proportion Comparison - High GPA by study hours\n",
   "id": "a22108c843aab199"
  },
  {
   "metadata": {},
   "cell_type": "markdown",
   "source": "Create study hours groups",
   "id": "38805011c9e69e39"
  },
  {
   "metadata": {
    "ExecuteTime": {
     "end_time": "2025-04-26T17:46:04.077915Z",
     "start_time": "2025-04-26T17:46:04.073070Z"
    }
   },
   "cell_type": "code",
   "source": [
    " df['study_hours_group'] = pd.cut(df['study_hours_per_day'],\n",
    "                                    bins=[0, 2, 4, float('inf')],\n",
    "                                    labels=['Low (≤2h)', 'Medium (2-4h)', 'High (>4h)'])"
   ],
   "id": "69b0fba4b21b0746",
   "outputs": [],
   "execution_count": 5
  },
  {
   "metadata": {
    "ExecuteTime": {
     "end_time": "2025-04-26T17:47:14.560084Z",
     "start_time": "2025-04-26T17:47:14.556541Z"
    }
   },
   "cell_type": "code",
   "source": "df[\"high_gpa\"] = (df[\"gpa\"] >= 3.5).astype(int)",
   "id": "fa1534493d323e4b",
   "outputs": [],
   "execution_count": 6
  },
  {
   "metadata": {},
   "cell_type": "markdown",
   "source": "Calculate proportions",
   "id": "e95716cca24590c4"
  },
  {
   "metadata": {
    "ExecuteTime": {
     "end_time": "2025-04-26T17:47:41.591037Z",
     "start_time": "2025-04-26T17:47:41.584179Z"
    }
   },
   "cell_type": "code",
   "source": [
    "prop_data = df.groupby('study_hours_group')['high_gpa'].agg(['mean', 'count']).reset_index()\n",
    "prop_data.columns = ['Study Hours Group', 'Proportion of High GPA', 'Sample Size']"
   ],
   "id": "3de41c59e5946c60",
   "outputs": [
    {
     "name": "stderr",
     "output_type": "stream",
     "text": [
      "/tmp/ipykernel_38170/889429047.py:1: FutureWarning: The default of observed=False is deprecated and will be changed to True in a future version of pandas. Pass observed=False to retain current behavior or observed=True to adopt the future default and silence this warning.\n",
      "  prop_data = df.groupby('study_hours_group')['high_gpa'].agg(['mean', 'count']).reset_index()\n"
     ]
    }
   ],
   "execution_count": 7
  },
  {
   "metadata": {},
   "cell_type": "markdown",
   "source": "Create bar chart plot\n",
   "id": "a920425047cf2eb6"
  },
  {
   "metadata": {
    "ExecuteTime": {
     "end_time": "2025-04-26T17:48:58.895961Z",
     "start_time": "2025-04-26T17:48:58.771564Z"
    }
   },
   "cell_type": "code",
   "source": [
    "plt.figure(figsize=(10, 6))\n",
    "sns.barplot(x='Study Hours Group', y='Proportion of High GPA', data=prop_data)\n",
    "plt.title('Proportion of High-GPA Students (≥3.5) by Study Hours')\n",
    "plt.ylabel('Proportion')\n",
    "plt.ylim(0, 1)\n",
    "\n",
    "for i, row in enumerate(prop_data.itertuples()):\n",
    "    plt.text(i, 0.05, f'n={row._3}', ha='center')\n",
    "    plt.text(i, row._2 + 0.03, f'{row._2:.2f}', ha='center')\n",
    "\n",
    "plt.tight_layout()\n",
    "plt.show()\n"
   ],
   "id": "8df2b7487d6ba819",
   "outputs": [
    {
     "data": {
      "text/plain": [
       "<Figure size 1000x600 with 1 Axes>"
      ],
      "image/png": "[encoded data removed]"
     },
     "metadata": {},
     "output_type": "display_data"
    }
   ],
   "execution_count": 8
  }
 ],
 "metadata": {
  "kernelspec": {
   "display_name": "Python 3",
   "language": "python",
   "name": "python3"
  },
  "language_info": {
   "codemirror_mode": {
    "name": "ipython",
    "version": 2
   },
   "file_extension": ".py",
   "mimetype": "text/x-python",
   "name": "python",
   "nbconvert_exporter": "python",
   "pygments_lexer": "ipython2",
   "version": "2.7.6"
  }
 },
 "nbformat": 4,
 "nbformat_minor": 5
}
